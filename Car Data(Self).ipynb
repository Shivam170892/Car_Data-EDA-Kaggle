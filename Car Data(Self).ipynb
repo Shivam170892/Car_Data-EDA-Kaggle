{
 "cells": [
  {
   "cell_type": "code",
   "execution_count": 1,
   "metadata": {},
   "outputs": [],
   "source": [
    "import pandas as pd"
   ]
  },
  {
   "cell_type": "code",
   "execution_count": 2,
   "metadata": {},
   "outputs": [],
   "source": [
    "import numpy as np"
   ]
  },
  {
   "cell_type": "code",
   "execution_count": 3,
   "metadata": {},
   "outputs": [],
   "source": [
    "import seaborn as sns"
   ]
  },
  {
   "cell_type": "code",
   "execution_count": 14,
   "metadata": {},
   "outputs": [],
   "source": [
    "import matplotlib.pyplot as plt"
   ]
  },
  {
   "cell_type": "code",
   "execution_count": 5,
   "metadata": {},
   "outputs": [],
   "source": [
    "df=pd.read_csv('car data.csv')"
   ]
  },
  {
   "cell_type": "code",
   "execution_count": 6,
   "metadata": {},
   "outputs": [
    {
     "data": {
      "text/html": [
       "<div>\n",
       "<style scoped>\n",
       "    .dataframe tbody tr th:only-of-type {\n",
       "        vertical-align: middle;\n",
       "    }\n",
       "\n",
       "    .dataframe tbody tr th {\n",
       "        vertical-align: top;\n",
       "    }\n",
       "\n",
       "    .dataframe thead th {\n",
       "        text-align: right;\n",
       "    }\n",
       "</style>\n",
       "<table border=\"1\" class=\"dataframe\">\n",
       "  <thead>\n",
       "    <tr style=\"text-align: right;\">\n",
       "      <th></th>\n",
       "      <th>Car_Name</th>\n",
       "      <th>Year</th>\n",
       "      <th>Selling_Price</th>\n",
       "      <th>Present_Price</th>\n",
       "      <th>Kms_Driven</th>\n",
       "      <th>Fuel_Type</th>\n",
       "      <th>Seller_Type</th>\n",
       "      <th>Transmission</th>\n",
       "      <th>Owner</th>\n",
       "    </tr>\n",
       "  </thead>\n",
       "  <tbody>\n",
       "    <tr>\n",
       "      <th>0</th>\n",
       "      <td>ritz</td>\n",
       "      <td>2014</td>\n",
       "      <td>3.35</td>\n",
       "      <td>5.59</td>\n",
       "      <td>27000</td>\n",
       "      <td>Petrol</td>\n",
       "      <td>Dealer</td>\n",
       "      <td>Manual</td>\n",
       "      <td>0</td>\n",
       "    </tr>\n",
       "    <tr>\n",
       "      <th>1</th>\n",
       "      <td>sx4</td>\n",
       "      <td>2013</td>\n",
       "      <td>4.75</td>\n",
       "      <td>9.54</td>\n",
       "      <td>43000</td>\n",
       "      <td>Diesel</td>\n",
       "      <td>Dealer</td>\n",
       "      <td>Manual</td>\n",
       "      <td>0</td>\n",
       "    </tr>\n",
       "    <tr>\n",
       "      <th>2</th>\n",
       "      <td>ciaz</td>\n",
       "      <td>2017</td>\n",
       "      <td>7.25</td>\n",
       "      <td>9.85</td>\n",
       "      <td>6900</td>\n",
       "      <td>Petrol</td>\n",
       "      <td>Dealer</td>\n",
       "      <td>Manual</td>\n",
       "      <td>0</td>\n",
       "    </tr>\n",
       "    <tr>\n",
       "      <th>3</th>\n",
       "      <td>wagon r</td>\n",
       "      <td>2011</td>\n",
       "      <td>2.85</td>\n",
       "      <td>4.15</td>\n",
       "      <td>5200</td>\n",
       "      <td>Petrol</td>\n",
       "      <td>Dealer</td>\n",
       "      <td>Manual</td>\n",
       "      <td>0</td>\n",
       "    </tr>\n",
       "    <tr>\n",
       "      <th>4</th>\n",
       "      <td>swift</td>\n",
       "      <td>2014</td>\n",
       "      <td>4.60</td>\n",
       "      <td>6.87</td>\n",
       "      <td>42450</td>\n",
       "      <td>Diesel</td>\n",
       "      <td>Dealer</td>\n",
       "      <td>Manual</td>\n",
       "      <td>0</td>\n",
       "    </tr>\n",
       "    <tr>\n",
       "      <th>...</th>\n",
       "      <td>...</td>\n",
       "      <td>...</td>\n",
       "      <td>...</td>\n",
       "      <td>...</td>\n",
       "      <td>...</td>\n",
       "      <td>...</td>\n",
       "      <td>...</td>\n",
       "      <td>...</td>\n",
       "      <td>...</td>\n",
       "    </tr>\n",
       "    <tr>\n",
       "      <th>296</th>\n",
       "      <td>city</td>\n",
       "      <td>2016</td>\n",
       "      <td>9.50</td>\n",
       "      <td>11.60</td>\n",
       "      <td>33988</td>\n",
       "      <td>Diesel</td>\n",
       "      <td>Dealer</td>\n",
       "      <td>Manual</td>\n",
       "      <td>0</td>\n",
       "    </tr>\n",
       "    <tr>\n",
       "      <th>297</th>\n",
       "      <td>brio</td>\n",
       "      <td>2015</td>\n",
       "      <td>4.00</td>\n",
       "      <td>5.90</td>\n",
       "      <td>60000</td>\n",
       "      <td>Petrol</td>\n",
       "      <td>Dealer</td>\n",
       "      <td>Manual</td>\n",
       "      <td>0</td>\n",
       "    </tr>\n",
       "    <tr>\n",
       "      <th>298</th>\n",
       "      <td>city</td>\n",
       "      <td>2009</td>\n",
       "      <td>3.35</td>\n",
       "      <td>11.00</td>\n",
       "      <td>87934</td>\n",
       "      <td>Petrol</td>\n",
       "      <td>Dealer</td>\n",
       "      <td>Manual</td>\n",
       "      <td>0</td>\n",
       "    </tr>\n",
       "    <tr>\n",
       "      <th>299</th>\n",
       "      <td>city</td>\n",
       "      <td>2017</td>\n",
       "      <td>11.50</td>\n",
       "      <td>12.50</td>\n",
       "      <td>9000</td>\n",
       "      <td>Diesel</td>\n",
       "      <td>Dealer</td>\n",
       "      <td>Manual</td>\n",
       "      <td>0</td>\n",
       "    </tr>\n",
       "    <tr>\n",
       "      <th>300</th>\n",
       "      <td>brio</td>\n",
       "      <td>2016</td>\n",
       "      <td>5.30</td>\n",
       "      <td>5.90</td>\n",
       "      <td>5464</td>\n",
       "      <td>Petrol</td>\n",
       "      <td>Dealer</td>\n",
       "      <td>Manual</td>\n",
       "      <td>0</td>\n",
       "    </tr>\n",
       "  </tbody>\n",
       "</table>\n",
       "<p>301 rows × 9 columns</p>\n",
       "</div>"
      ],
      "text/plain": [
       "    Car_Name  Year  Selling_Price  Present_Price  Kms_Driven Fuel_Type  \\\n",
       "0       ritz  2014           3.35           5.59       27000    Petrol   \n",
       "1        sx4  2013           4.75           9.54       43000    Diesel   \n",
       "2       ciaz  2017           7.25           9.85        6900    Petrol   \n",
       "3    wagon r  2011           2.85           4.15        5200    Petrol   \n",
       "4      swift  2014           4.60           6.87       42450    Diesel   \n",
       "..       ...   ...            ...            ...         ...       ...   \n",
       "296     city  2016           9.50          11.60       33988    Diesel   \n",
       "297     brio  2015           4.00           5.90       60000    Petrol   \n",
       "298     city  2009           3.35          11.00       87934    Petrol   \n",
       "299     city  2017          11.50          12.50        9000    Diesel   \n",
       "300     brio  2016           5.30           5.90        5464    Petrol   \n",
       "\n",
       "    Seller_Type Transmission  Owner  \n",
       "0        Dealer       Manual      0  \n",
       "1        Dealer       Manual      0  \n",
       "2        Dealer       Manual      0  \n",
       "3        Dealer       Manual      0  \n",
       "4        Dealer       Manual      0  \n",
       "..          ...          ...    ...  \n",
       "296      Dealer       Manual      0  \n",
       "297      Dealer       Manual      0  \n",
       "298      Dealer       Manual      0  \n",
       "299      Dealer       Manual      0  \n",
       "300      Dealer       Manual      0  \n",
       "\n",
       "[301 rows x 9 columns]"
      ]
     },
     "execution_count": 6,
     "metadata": {},
     "output_type": "execute_result"
    }
   ],
   "source": [
    "df"
   ]
  },
  {
   "cell_type": "code",
   "execution_count": 8,
   "metadata": {},
   "outputs": [
    {
     "data": {
      "text/plain": [
       "0         ritz\n",
       "1          sx4\n",
       "2         ciaz\n",
       "3      wagon r\n",
       "4        swift\n",
       "        ...   \n",
       "296       city\n",
       "297       brio\n",
       "298       city\n",
       "299       city\n",
       "300       brio\n",
       "Name: Car_Name, Length: 301, dtype: object"
      ]
     },
     "execution_count": 8,
     "metadata": {},
     "output_type": "execute_result"
    }
   ],
   "source": [
    "df['Car_Name']"
   ]
  },
  {
   "cell_type": "code",
   "execution_count": 18,
   "metadata": {},
   "outputs": [
    {
     "data": {
      "text/plain": [
       "<matplotlib.axes._subplots.AxesSubplot at 0x21a24b62708>"
      ]
     },
     "execution_count": 18,
     "metadata": {},
     "output_type": "execute_result"
    },
    {
     "data": {
      "image/png": "[encoded data removed]",
      "text/plain": [
       "<Figure size 1440x720 with 1 Axes>"
      ]
     },
     "metadata": {
      "needs_background": "light"
     },
     "output_type": "display_data"
    }
   ],
   "source": [
    "plt.figure(figsize=(20,10))\n",
    "sns.countplot(df['Car_Name'])"
   ]
  },
  {
   "cell_type": "code",
   "execution_count": 11,
   "metadata": {},
   "outputs": [
    {
     "ename": "IndexError",
     "evalue": "Inconsistent shape between the condition and the input (got (301, 1) and (301,))",
     "output_type": "error",
     "traceback": [
      "\u001b[1;31m---------------------------------------------------------------------------\u001b[0m",
      "\u001b[1;31mIndexError\u001b[0m                                Traceback (most recent call last)",
      "\u001b[1;32m<ipython-input-11-594dfcb96cd1>\u001b[0m in \u001b[0;36m<module>\u001b[1;34m\u001b[0m\n\u001b[1;32m----> 1\u001b[1;33m \u001b[0msns\u001b[0m\u001b[1;33m.\u001b[0m\u001b[0mheatmap\u001b[0m\u001b[1;33m(\u001b[0m\u001b[0mdata\u001b[0m\u001b[1;33m=\u001b[0m\u001b[0mdf\u001b[0m\u001b[1;33m[\u001b[0m\u001b[1;34m'Car_Name'\u001b[0m\u001b[1;33m]\u001b[0m\u001b[1;33m)\u001b[0m\u001b[1;33m\u001b[0m\u001b[1;33m\u001b[0m\u001b[0m\n\u001b[0m",
      "\u001b[1;32mC:\\ProgramData\\Anaconda3\\lib\\site-packages\\seaborn\\matrix.py\u001b[0m in \u001b[0;36mheatmap\u001b[1;34m(data, vmin, vmax, cmap, center, robust, annot, fmt, annot_kws, linewidths, linecolor, cbar, cbar_kws, cbar_ax, square, xticklabels, yticklabels, mask, ax, **kwargs)\u001b[0m\n\u001b[0;32m    510\u001b[0m     plotter = _HeatMapper(data, vmin, vmax, cmap, center, robust, annot, fmt,\n\u001b[0;32m    511\u001b[0m                           \u001b[0mannot_kws\u001b[0m\u001b[1;33m,\u001b[0m \u001b[0mcbar\u001b[0m\u001b[1;33m,\u001b[0m \u001b[0mcbar_kws\u001b[0m\u001b[1;33m,\u001b[0m \u001b[0mxticklabels\u001b[0m\u001b[1;33m,\u001b[0m\u001b[1;33m\u001b[0m\u001b[1;33m\u001b[0m\u001b[0m\n\u001b[1;32m--> 512\u001b[1;33m                           yticklabels, mask)\n\u001b[0m\u001b[0;32m    513\u001b[0m \u001b[1;33m\u001b[0m\u001b[0m\n\u001b[0;32m    514\u001b[0m     \u001b[1;31m# Add the pcolormesh kwargs here\u001b[0m\u001b[1;33m\u001b[0m\u001b[1;33m\u001b[0m\u001b[1;33m\u001b[0m\u001b[0m\n",
      "\u001b[1;32mC:\\ProgramData\\Anaconda3\\lib\\site-packages\\seaborn\\matrix.py\u001b[0m in \u001b[0;36m__init__\u001b[1;34m(self, data, vmin, vmax, cmap, center, robust, annot, fmt, annot_kws, cbar, cbar_kws, xticklabels, yticklabels, mask)\u001b[0m\n\u001b[0;32m    112\u001b[0m         \u001b[0mmask\u001b[0m \u001b[1;33m=\u001b[0m \u001b[0m_matrix_mask\u001b[0m\u001b[1;33m(\u001b[0m\u001b[0mdata\u001b[0m\u001b[1;33m,\u001b[0m \u001b[0mmask\u001b[0m\u001b[1;33m)\u001b[0m\u001b[1;33m\u001b[0m\u001b[1;33m\u001b[0m\u001b[0m\n\u001b[0;32m    113\u001b[0m \u001b[1;33m\u001b[0m\u001b[0m\n\u001b[1;32m--> 114\u001b[1;33m         \u001b[0mplot_data\u001b[0m \u001b[1;33m=\u001b[0m \u001b[0mnp\u001b[0m\u001b[1;33m.\u001b[0m\u001b[0mma\u001b[0m\u001b[1;33m.\u001b[0m\u001b[0mmasked_where\u001b[0m\u001b[1;33m(\u001b[0m\u001b[0mnp\u001b[0m\u001b[1;33m.\u001b[0m\u001b[0masarray\u001b[0m\u001b[1;33m(\u001b[0m\u001b[0mmask\u001b[0m\u001b[1;33m)\u001b[0m\u001b[1;33m,\u001b[0m \u001b[0mplot_data\u001b[0m\u001b[1;33m)\u001b[0m\u001b[1;33m\u001b[0m\u001b[1;33m\u001b[0m\u001b[0m\n\u001b[0m\u001b[0;32m    115\u001b[0m \u001b[1;33m\u001b[0m\u001b[0m\n\u001b[0;32m    116\u001b[0m         \u001b[1;31m# Get good names for the rows and columns\u001b[0m\u001b[1;33m\u001b[0m\u001b[1;33m\u001b[0m\u001b[1;33m\u001b[0m\u001b[0m\n",
      "\u001b[1;32mC:\\ProgramData\\Anaconda3\\lib\\site-packages\\numpy\\ma\\core.py\u001b[0m in \u001b[0;36mmasked_where\u001b[1;34m(condition, a, copy)\u001b[0m\n\u001b[0;32m   1940\u001b[0m     \u001b[1;32mif\u001b[0m \u001b[0mcshape\u001b[0m \u001b[1;32mand\u001b[0m \u001b[0mcshape\u001b[0m \u001b[1;33m!=\u001b[0m \u001b[0mashape\u001b[0m\u001b[1;33m:\u001b[0m\u001b[1;33m\u001b[0m\u001b[1;33m\u001b[0m\u001b[0m\n\u001b[0;32m   1941\u001b[0m         raise IndexError(\"Inconsistent shape between the condition and the input\"\n\u001b[1;32m-> 1942\u001b[1;33m                          \" (got %s and %s)\" % (cshape, ashape))\n\u001b[0m\u001b[0;32m   1943\u001b[0m     \u001b[1;32mif\u001b[0m \u001b[0mhasattr\u001b[0m\u001b[1;33m(\u001b[0m\u001b[0ma\u001b[0m\u001b[1;33m,\u001b[0m \u001b[1;34m'_mask'\u001b[0m\u001b[1;33m)\u001b[0m\u001b[1;33m:\u001b[0m\u001b[1;33m\u001b[0m\u001b[1;33m\u001b[0m\u001b[0m\n\u001b[0;32m   1944\u001b[0m         \u001b[0mcond\u001b[0m \u001b[1;33m=\u001b[0m \u001b[0mmask_or\u001b[0m\u001b[1;33m(\u001b[0m\u001b[0mcond\u001b[0m\u001b[1;33m,\u001b[0m \u001b[0ma\u001b[0m\u001b[1;33m.\u001b[0m\u001b[0m_mask\u001b[0m\u001b[1;33m)\u001b[0m\u001b[1;33m\u001b[0m\u001b[1;33m\u001b[0m\u001b[0m\n",
      "\u001b[1;31mIndexError\u001b[0m: Inconsistent shape between the condition and the input (got (301, 1) and (301,))"
     ]
    }
   ],
   "source": [
    "sns.heatmap(data=df['Car_Name'])"
   ]
  },
  {
   "cell_type": "code",
   "execution_count": 22,
   "metadata": {},
   "outputs": [
    {
     "ename": "AttributeError",
     "evalue": "'Series' object has no attribute 'value'",
     "output_type": "error",
     "traceback": [
      "\u001b[1;31m---------------------------------------------------------------------------\u001b[0m",
      "\u001b[1;31mAttributeError\u001b[0m                            Traceback (most recent call last)",
      "\u001b[1;32m<ipython-input-22-42c0d0197db1>\u001b[0m in \u001b[0;36m<module>\u001b[1;34m\u001b[0m\n\u001b[1;32m----> 1\u001b[1;33m \u001b[0mdf\u001b[0m\u001b[1;33m[\u001b[0m\u001b[1;34m'Car_Name'\u001b[0m\u001b[1;33m]\u001b[0m\u001b[1;33m.\u001b[0m\u001b[0mvalue\u001b[0m\u001b[1;33m(\u001b[0m\u001b[1;33m)\u001b[0m\u001b[1;33m\u001b[0m\u001b[1;33m\u001b[0m\u001b[0m\n\u001b[0m",
      "\u001b[1;32mC:\\ProgramData\\Anaconda3\\lib\\site-packages\\pandas\\core\\generic.py\u001b[0m in \u001b[0;36m__getattr__\u001b[1;34m(self, name)\u001b[0m\n\u001b[0;32m   5272\u001b[0m             \u001b[1;32mif\u001b[0m \u001b[0mself\u001b[0m\u001b[1;33m.\u001b[0m\u001b[0m_info_axis\u001b[0m\u001b[1;33m.\u001b[0m\u001b[0m_can_hold_identifiers_and_holds_name\u001b[0m\u001b[1;33m(\u001b[0m\u001b[0mname\u001b[0m\u001b[1;33m)\u001b[0m\u001b[1;33m:\u001b[0m\u001b[1;33m\u001b[0m\u001b[1;33m\u001b[0m\u001b[0m\n\u001b[0;32m   5273\u001b[0m                 \u001b[1;32mreturn\u001b[0m \u001b[0mself\u001b[0m\u001b[1;33m[\u001b[0m\u001b[0mname\u001b[0m\u001b[1;33m]\u001b[0m\u001b[1;33m\u001b[0m\u001b[1;33m\u001b[0m\u001b[0m\n\u001b[1;32m-> 5274\u001b[1;33m             \u001b[1;32mreturn\u001b[0m \u001b[0mobject\u001b[0m\u001b[1;33m.\u001b[0m\u001b[0m__getattribute__\u001b[0m\u001b[1;33m(\u001b[0m\u001b[0mself\u001b[0m\u001b[1;33m,\u001b[0m \u001b[0mname\u001b[0m\u001b[1;33m)\u001b[0m\u001b[1;33m\u001b[0m\u001b[1;33m\u001b[0m\u001b[0m\n\u001b[0m\u001b[0;32m   5275\u001b[0m \u001b[1;33m\u001b[0m\u001b[0m\n\u001b[0;32m   5276\u001b[0m     \u001b[1;32mdef\u001b[0m \u001b[0m__setattr__\u001b[0m\u001b[1;33m(\u001b[0m\u001b[0mself\u001b[0m\u001b[1;33m,\u001b[0m \u001b[0mname\u001b[0m\u001b[1;33m:\u001b[0m \u001b[0mstr\u001b[0m\u001b[1;33m,\u001b[0m \u001b[0mvalue\u001b[0m\u001b[1;33m)\u001b[0m \u001b[1;33m->\u001b[0m \u001b[1;32mNone\u001b[0m\u001b[1;33m:\u001b[0m\u001b[1;33m\u001b[0m\u001b[1;33m\u001b[0m\u001b[0m\n",
      "\u001b[1;31mAttributeError\u001b[0m: 'Series' object has no attribute 'value'"
     ]
    }
   ],
   "source": [
    "df['Car_Name'].value()"
   ]
  },
  {
   "cell_type": "code",
   "execution_count": 23,
   "metadata": {},
   "outputs": [
    {
     "data": {
      "text/plain": [
       "count      301\n",
       "unique      98\n",
       "top       city\n",
       "freq        26\n",
       "Name: Car_Name, dtype: object"
      ]
     },
     "execution_count": 23,
     "metadata": {},
     "output_type": "execute_result"
    }
   ],
   "source": [
    "df['Car_Name'].describe(\"\")"
   ]
  },
  {
   "cell_type": "code",
   "execution_count": 24,
   "metadata": {},
   "outputs": [
    {
     "data": {
      "text/plain": [
       "0       ritz\n",
       "1        sx4\n",
       "2       ciaz\n",
       "3    wagon r\n",
       "4      swift\n",
       "Name: Car_Name, dtype: object"
      ]
     },
     "execution_count": 24,
     "metadata": {},
     "output_type": "execute_result"
    }
   ],
   "source": [
    "df['Car_Name'].head()"
   ]
  },
  {
   "cell_type": "code",
   "execution_count": 29,
   "metadata": {},
   "outputs": [
    {
     "data": {
      "text/html": [
       "<div>\n",
       "<style scoped>\n",
       "    .dataframe tbody tr th:only-of-type {\n",
       "        vertical-align: middle;\n",
       "    }\n",
       "\n",
       "    .dataframe tbody tr th {\n",
       "        vertical-align: top;\n",
       "    }\n",
       "\n",
       "    .dataframe thead th {\n",
       "        text-align: right;\n",
       "    }\n",
       "</style>\n",
       "<table border=\"1\" class=\"dataframe\">\n",
       "  <thead>\n",
       "    <tr style=\"text-align: right;\">\n",
       "      <th></th>\n",
       "      <th>Car_Name</th>\n",
       "      <th>Year</th>\n",
       "      <th>Selling_Price</th>\n",
       "      <th>Present_Price</th>\n",
       "      <th>Kms_Driven</th>\n",
       "      <th>Fuel_Type</th>\n",
       "      <th>Seller_Type</th>\n",
       "      <th>Transmission</th>\n",
       "      <th>Owner</th>\n",
       "    </tr>\n",
       "  </thead>\n",
       "  <tbody>\n",
       "    <tr>\n",
       "      <th>85</th>\n",
       "      <td>camry</td>\n",
       "      <td>2006</td>\n",
       "      <td>2.5</td>\n",
       "      <td>23.73</td>\n",
       "      <td>142000</td>\n",
       "      <td>Petrol</td>\n",
       "      <td>Individual</td>\n",
       "      <td>Automatic</td>\n",
       "      <td>3</td>\n",
       "    </tr>\n",
       "  </tbody>\n",
       "</table>\n",
       "</div>"
      ],
      "text/plain": [
       "   Car_Name  Year  Selling_Price  Present_Price  Kms_Driven Fuel_Type  \\\n",
       "85    camry  2006            2.5          23.73      142000    Petrol   \n",
       "\n",
       "   Seller_Type Transmission  Owner  \n",
       "85  Individual    Automatic      3  "
      ]
     },
     "execution_count": 29,
     "metadata": {},
     "output_type": "execute_result"
    }
   ],
   "source": [
    "df[df['Owner']==3]"
   ]
  },
  {
   "cell_type": "code",
   "execution_count": 30,
   "metadata": {},
   "outputs": [
    {
     "data": {
      "text/html": [
       "<div>\n",
       "<style scoped>\n",
       "    .dataframe tbody tr th:only-of-type {\n",
       "        vertical-align: middle;\n",
       "    }\n",
       "\n",
       "    .dataframe tbody tr th {\n",
       "        vertical-align: top;\n",
       "    }\n",
       "\n",
       "    .dataframe thead th {\n",
       "        text-align: right;\n",
       "    }\n",
       "</style>\n",
       "<table border=\"1\" class=\"dataframe\">\n",
       "  <thead>\n",
       "    <tr style=\"text-align: right;\">\n",
       "      <th></th>\n",
       "      <th>Car_Name</th>\n",
       "      <th>Year</th>\n",
       "      <th>Selling_Price</th>\n",
       "      <th>Present_Price</th>\n",
       "      <th>Kms_Driven</th>\n",
       "      <th>Fuel_Type</th>\n",
       "      <th>Seller_Type</th>\n",
       "      <th>Transmission</th>\n",
       "      <th>Owner</th>\n",
       "    </tr>\n",
       "  </thead>\n",
       "  <tbody>\n",
       "  </tbody>\n",
       "</table>\n",
       "</div>"
      ],
      "text/plain": [
       "Empty DataFrame\n",
       "Columns: [Car_Name, Year, Selling_Price, Present_Price, Kms_Driven, Fuel_Type, Seller_Type, Transmission, Owner]\n",
       "Index: []"
      ]
     },
     "execution_count": 30,
     "metadata": {},
     "output_type": "execute_result"
    }
   ],
   "source": [
    "df[df['Owner']==2]"
   ]
  },
  {
   "cell_type": "code",
   "execution_count": 31,
   "metadata": {},
   "outputs": [
    {
     "data": {
      "text/html": [
       "<div>\n",
       "<style scoped>\n",
       "    .dataframe tbody tr th:only-of-type {\n",
       "        vertical-align: middle;\n",
       "    }\n",
       "\n",
       "    .dataframe tbody tr th {\n",
       "        vertical-align: top;\n",
       "    }\n",
       "\n",
       "    .dataframe thead th {\n",
       "        text-align: right;\n",
       "    }\n",
       "</style>\n",
       "<table border=\"1\" class=\"dataframe\">\n",
       "  <thead>\n",
       "    <tr style=\"text-align: right;\">\n",
       "      <th></th>\n",
       "      <th>Car_Name</th>\n",
       "      <th>Year</th>\n",
       "      <th>Selling_Price</th>\n",
       "      <th>Present_Price</th>\n",
       "      <th>Kms_Driven</th>\n",
       "      <th>Fuel_Type</th>\n",
       "      <th>Seller_Type</th>\n",
       "      <th>Transmission</th>\n",
       "      <th>Owner</th>\n",
       "    </tr>\n",
       "  </thead>\n",
       "  <tbody>\n",
       "    <tr>\n",
       "      <th>58</th>\n",
       "      <td>etios g</td>\n",
       "      <td>2014</td>\n",
       "      <td>4.10</td>\n",
       "      <td>6.80</td>\n",
       "      <td>39485</td>\n",
       "      <td>Petrol</td>\n",
       "      <td>Dealer</td>\n",
       "      <td>Manual</td>\n",
       "      <td>1</td>\n",
       "    </tr>\n",
       "    <tr>\n",
       "      <th>106</th>\n",
       "      <td>Hyosung GT250R</td>\n",
       "      <td>2014</td>\n",
       "      <td>1.35</td>\n",
       "      <td>3.45</td>\n",
       "      <td>16500</td>\n",
       "      <td>Petrol</td>\n",
       "      <td>Individual</td>\n",
       "      <td>Manual</td>\n",
       "      <td>1</td>\n",
       "    </tr>\n",
       "    <tr>\n",
       "      <th>184</th>\n",
       "      <td>Bajaj Pulsar 150</td>\n",
       "      <td>2008</td>\n",
       "      <td>0.25</td>\n",
       "      <td>0.75</td>\n",
       "      <td>26000</td>\n",
       "      <td>Petrol</td>\n",
       "      <td>Individual</td>\n",
       "      <td>Manual</td>\n",
       "      <td>1</td>\n",
       "    </tr>\n",
       "    <tr>\n",
       "      <th>191</th>\n",
       "      <td>Bajaj Discover 125</td>\n",
       "      <td>2012</td>\n",
       "      <td>0.20</td>\n",
       "      <td>0.57</td>\n",
       "      <td>25000</td>\n",
       "      <td>Petrol</td>\n",
       "      <td>Individual</td>\n",
       "      <td>Manual</td>\n",
       "      <td>1</td>\n",
       "    </tr>\n",
       "    <tr>\n",
       "      <th>192</th>\n",
       "      <td>Hero Hunk</td>\n",
       "      <td>2007</td>\n",
       "      <td>0.20</td>\n",
       "      <td>0.75</td>\n",
       "      <td>49000</td>\n",
       "      <td>Petrol</td>\n",
       "      <td>Individual</td>\n",
       "      <td>Manual</td>\n",
       "      <td>1</td>\n",
       "    </tr>\n",
       "    <tr>\n",
       "      <th>193</th>\n",
       "      <td>Hero  Ignitor Disc</td>\n",
       "      <td>2013</td>\n",
       "      <td>0.20</td>\n",
       "      <td>0.65</td>\n",
       "      <td>24000</td>\n",
       "      <td>Petrol</td>\n",
       "      <td>Individual</td>\n",
       "      <td>Manual</td>\n",
       "      <td>1</td>\n",
       "    </tr>\n",
       "    <tr>\n",
       "      <th>198</th>\n",
       "      <td>Bajaj Discover 125</td>\n",
       "      <td>2011</td>\n",
       "      <td>0.15</td>\n",
       "      <td>0.57</td>\n",
       "      <td>35000</td>\n",
       "      <td>Petrol</td>\n",
       "      <td>Individual</td>\n",
       "      <td>Manual</td>\n",
       "      <td>1</td>\n",
       "    </tr>\n",
       "    <tr>\n",
       "      <th>201</th>\n",
       "      <td>i20</td>\n",
       "      <td>2010</td>\n",
       "      <td>3.25</td>\n",
       "      <td>6.79</td>\n",
       "      <td>58000</td>\n",
       "      <td>Diesel</td>\n",
       "      <td>Dealer</td>\n",
       "      <td>Manual</td>\n",
       "      <td>1</td>\n",
       "    </tr>\n",
       "    <tr>\n",
       "      <th>205</th>\n",
       "      <td>grand i10</td>\n",
       "      <td>2016</td>\n",
       "      <td>5.25</td>\n",
       "      <td>5.70</td>\n",
       "      <td>3493</td>\n",
       "      <td>Petrol</td>\n",
       "      <td>Dealer</td>\n",
       "      <td>Manual</td>\n",
       "      <td>1</td>\n",
       "    </tr>\n",
       "    <tr>\n",
       "      <th>241</th>\n",
       "      <td>xcent</td>\n",
       "      <td>2015</td>\n",
       "      <td>4.75</td>\n",
       "      <td>7.13</td>\n",
       "      <td>35866</td>\n",
       "      <td>Petrol</td>\n",
       "      <td>Dealer</td>\n",
       "      <td>Manual</td>\n",
       "      <td>1</td>\n",
       "    </tr>\n",
       "  </tbody>\n",
       "</table>\n",
       "</div>"
      ],
      "text/plain": [
       "               Car_Name  Year  Selling_Price  Present_Price  Kms_Driven  \\\n",
       "58              etios g  2014           4.10           6.80       39485   \n",
       "106      Hyosung GT250R  2014           1.35           3.45       16500   \n",
       "184    Bajaj Pulsar 150  2008           0.25           0.75       26000   \n",
       "191  Bajaj Discover 125  2012           0.20           0.57       25000   \n",
       "192           Hero Hunk  2007           0.20           0.75       49000   \n",
       "193  Hero  Ignitor Disc  2013           0.20           0.65       24000   \n",
       "198  Bajaj Discover 125  2011           0.15           0.57       35000   \n",
       "201                 i20  2010           3.25           6.79       58000   \n",
       "205           grand i10  2016           5.25           5.70        3493   \n",
       "241               xcent  2015           4.75           7.13       35866   \n",
       "\n",
       "    Fuel_Type Seller_Type Transmission  Owner  \n",
       "58     Petrol      Dealer       Manual      1  \n",
       "106    Petrol  Individual       Manual      1  \n",
       "184    Petrol  Individual       Manual      1  \n",
       "191    Petrol  Individual       Manual      1  \n",
       "192    Petrol  Individual       Manual      1  \n",
       "193    Petrol  Individual       Manual      1  \n",
       "198    Petrol  Individual       Manual      1  \n",
       "201    Diesel      Dealer       Manual      1  \n",
       "205    Petrol      Dealer       Manual      1  \n",
       "241    Petrol      Dealer       Manual      1  "
      ]
     },
     "execution_count": 31,
     "metadata": {},
     "output_type": "execute_result"
    }
   ],
   "source": [
    "df[df['Owner']==1]"
   ]
  },
  {
   "cell_type": "code",
   "execution_count": 32,
   "metadata": {},
   "outputs": [
    {
     "data": {
      "text/html": [
       "<div>\n",
       "<style scoped>\n",
       "    .dataframe tbody tr th:only-of-type {\n",
       "        vertical-align: middle;\n",
       "    }\n",
       "\n",
       "    .dataframe tbody tr th {\n",
       "        vertical-align: top;\n",
       "    }\n",
       "\n",
       "    .dataframe thead th {\n",
       "        text-align: right;\n",
       "    }\n",
       "</style>\n",
       "<table border=\"1\" class=\"dataframe\">\n",
       "  <thead>\n",
       "    <tr style=\"text-align: right;\">\n",
       "      <th></th>\n",
       "      <th>Car_Name</th>\n",
       "      <th>Year</th>\n",
       "      <th>Selling_Price</th>\n",
       "      <th>Present_Price</th>\n",
       "      <th>Kms_Driven</th>\n",
       "      <th>Fuel_Type</th>\n",
       "      <th>Seller_Type</th>\n",
       "      <th>Transmission</th>\n",
       "      <th>Owner</th>\n",
       "    </tr>\n",
       "  </thead>\n",
       "  <tbody>\n",
       "    <tr>\n",
       "      <th>0</th>\n",
       "      <td>ritz</td>\n",
       "      <td>2014</td>\n",
       "      <td>3.35</td>\n",
       "      <td>5.59</td>\n",
       "      <td>27000</td>\n",
       "      <td>Petrol</td>\n",
       "      <td>Dealer</td>\n",
       "      <td>Manual</td>\n",
       "      <td>0</td>\n",
       "    </tr>\n",
       "    <tr>\n",
       "      <th>1</th>\n",
       "      <td>sx4</td>\n",
       "      <td>2013</td>\n",
       "      <td>4.75</td>\n",
       "      <td>9.54</td>\n",
       "      <td>43000</td>\n",
       "      <td>Diesel</td>\n",
       "      <td>Dealer</td>\n",
       "      <td>Manual</td>\n",
       "      <td>0</td>\n",
       "    </tr>\n",
       "    <tr>\n",
       "      <th>2</th>\n",
       "      <td>ciaz</td>\n",
       "      <td>2017</td>\n",
       "      <td>7.25</td>\n",
       "      <td>9.85</td>\n",
       "      <td>6900</td>\n",
       "      <td>Petrol</td>\n",
       "      <td>Dealer</td>\n",
       "      <td>Manual</td>\n",
       "      <td>0</td>\n",
       "    </tr>\n",
       "    <tr>\n",
       "      <th>3</th>\n",
       "      <td>wagon r</td>\n",
       "      <td>2011</td>\n",
       "      <td>2.85</td>\n",
       "      <td>4.15</td>\n",
       "      <td>5200</td>\n",
       "      <td>Petrol</td>\n",
       "      <td>Dealer</td>\n",
       "      <td>Manual</td>\n",
       "      <td>0</td>\n",
       "    </tr>\n",
       "    <tr>\n",
       "      <th>4</th>\n",
       "      <td>swift</td>\n",
       "      <td>2014</td>\n",
       "      <td>4.60</td>\n",
       "      <td>6.87</td>\n",
       "      <td>42450</td>\n",
       "      <td>Diesel</td>\n",
       "      <td>Dealer</td>\n",
       "      <td>Manual</td>\n",
       "      <td>0</td>\n",
       "    </tr>\n",
       "    <tr>\n",
       "      <th>...</th>\n",
       "      <td>...</td>\n",
       "      <td>...</td>\n",
       "      <td>...</td>\n",
       "      <td>...</td>\n",
       "      <td>...</td>\n",
       "      <td>...</td>\n",
       "      <td>...</td>\n",
       "      <td>...</td>\n",
       "      <td>...</td>\n",
       "    </tr>\n",
       "    <tr>\n",
       "      <th>296</th>\n",
       "      <td>city</td>\n",
       "      <td>2016</td>\n",
       "      <td>9.50</td>\n",
       "      <td>11.60</td>\n",
       "      <td>33988</td>\n",
       "      <td>Diesel</td>\n",
       "      <td>Dealer</td>\n",
       "      <td>Manual</td>\n",
       "      <td>0</td>\n",
       "    </tr>\n",
       "    <tr>\n",
       "      <th>297</th>\n",
       "      <td>brio</td>\n",
       "      <td>2015</td>\n",
       "      <td>4.00</td>\n",
       "      <td>5.90</td>\n",
       "      <td>60000</td>\n",
       "      <td>Petrol</td>\n",
       "      <td>Dealer</td>\n",
       "      <td>Manual</td>\n",
       "      <td>0</td>\n",
       "    </tr>\n",
       "    <tr>\n",
       "      <th>298</th>\n",
       "      <td>city</td>\n",
       "      <td>2009</td>\n",
       "      <td>3.35</td>\n",
       "      <td>11.00</td>\n",
       "      <td>87934</td>\n",
       "      <td>Petrol</td>\n",
       "      <td>Dealer</td>\n",
       "      <td>Manual</td>\n",
       "      <td>0</td>\n",
       "    </tr>\n",
       "    <tr>\n",
       "      <th>299</th>\n",
       "      <td>city</td>\n",
       "      <td>2017</td>\n",
       "      <td>11.50</td>\n",
       "      <td>12.50</td>\n",
       "      <td>9000</td>\n",
       "      <td>Diesel</td>\n",
       "      <td>Dealer</td>\n",
       "      <td>Manual</td>\n",
       "      <td>0</td>\n",
       "    </tr>\n",
       "    <tr>\n",
       "      <th>300</th>\n",
       "      <td>brio</td>\n",
       "      <td>2016</td>\n",
       "      <td>5.30</td>\n",
       "      <td>5.90</td>\n",
       "      <td>5464</td>\n",
       "      <td>Petrol</td>\n",
       "      <td>Dealer</td>\n",
       "      <td>Manual</td>\n",
       "      <td>0</td>\n",
       "    </tr>\n",
       "  </tbody>\n",
       "</table>\n",
       "<p>290 rows × 9 columns</p>\n",
       "</div>"
      ],
      "text/plain": [
       "    Car_Name  Year  Selling_Price  Present_Price  Kms_Driven Fuel_Type  \\\n",
       "0       ritz  2014           3.35           5.59       27000    Petrol   \n",
       "1        sx4  2013           4.75           9.54       43000    Diesel   \n",
       "2       ciaz  2017           7.25           9.85        6900    Petrol   \n",
       "3    wagon r  2011           2.85           4.15        5200    Petrol   \n",
       "4      swift  2014           4.60           6.87       42450    Diesel   \n",
       "..       ...   ...            ...            ...         ...       ...   \n",
       "296     city  2016           9.50          11.60       33988    Diesel   \n",
       "297     brio  2015           4.00           5.90       60000    Petrol   \n",
       "298     city  2009           3.35          11.00       87934    Petrol   \n",
       "299     city  2017          11.50          12.50        9000    Diesel   \n",
       "300     brio  2016           5.30           5.90        5464    Petrol   \n",
       "\n",
       "    Seller_Type Transmission  Owner  \n",
       "0        Dealer       Manual      0  \n",
       "1        Dealer       Manual      0  \n",
       "2        Dealer       Manual      0  \n",
       "3        Dealer       Manual      0  \n",
       "4        Dealer       Manual      0  \n",
       "..          ...          ...    ...  \n",
       "296      Dealer       Manual      0  \n",
       "297      Dealer       Manual      0  \n",
       "298      Dealer       Manual      0  \n",
       "299      Dealer       Manual      0  \n",
       "300      Dealer       Manual      0  \n",
       "\n",
       "[290 rows x 9 columns]"
      ]
     },
     "execution_count": 32,
     "metadata": {},
     "output_type": "execute_result"
    }
   ],
   "source": [
    "df[df['Owner']==0]"
   ]
  },
  {
   "cell_type": "code",
   "execution_count": 34,
   "metadata": {},
   "outputs": [
    {
     "data": {
      "text/html": [
       "<div>\n",
       "<style scoped>\n",
       "    .dataframe tbody tr th:only-of-type {\n",
       "        vertical-align: middle;\n",
       "    }\n",
       "\n",
       "    .dataframe tbody tr th {\n",
       "        vertical-align: top;\n",
       "    }\n",
       "\n",
       "    .dataframe thead th {\n",
       "        text-align: right;\n",
       "    }\n",
       "</style>\n",
       "<table border=\"1\" class=\"dataframe\">\n",
       "  <thead>\n",
       "    <tr style=\"text-align: right;\">\n",
       "      <th></th>\n",
       "      <th>Car_Name</th>\n",
       "      <th>Year</th>\n",
       "      <th>Selling_Price</th>\n",
       "      <th>Present_Price</th>\n",
       "      <th>Kms_Driven</th>\n",
       "      <th>Fuel_Type</th>\n",
       "      <th>Seller_Type</th>\n",
       "      <th>Transmission</th>\n",
       "      <th>Owner</th>\n",
       "    </tr>\n",
       "  </thead>\n",
       "  <tbody>\n",
       "    <tr>\n",
       "      <th>12</th>\n",
       "      <td>ciaz</td>\n",
       "      <td>2015</td>\n",
       "      <td>7.50</td>\n",
       "      <td>9.94</td>\n",
       "      <td>15000</td>\n",
       "      <td>Petrol</td>\n",
       "      <td>Dealer</td>\n",
       "      <td>Automatic</td>\n",
       "      <td>0</td>\n",
       "    </tr>\n",
       "    <tr>\n",
       "      <th>22</th>\n",
       "      <td>sx4</td>\n",
       "      <td>2011</td>\n",
       "      <td>4.40</td>\n",
       "      <td>8.01</td>\n",
       "      <td>50000</td>\n",
       "      <td>Petrol</td>\n",
       "      <td>Dealer</td>\n",
       "      <td>Automatic</td>\n",
       "      <td>0</td>\n",
       "    </tr>\n",
       "    <tr>\n",
       "      <th>40</th>\n",
       "      <td>baleno</td>\n",
       "      <td>2016</td>\n",
       "      <td>5.85</td>\n",
       "      <td>7.87</td>\n",
       "      <td>24524</td>\n",
       "      <td>Petrol</td>\n",
       "      <td>Dealer</td>\n",
       "      <td>Automatic</td>\n",
       "      <td>0</td>\n",
       "    </tr>\n",
       "    <tr>\n",
       "      <th>45</th>\n",
       "      <td>ciaz</td>\n",
       "      <td>2014</td>\n",
       "      <td>7.50</td>\n",
       "      <td>12.04</td>\n",
       "      <td>15000</td>\n",
       "      <td>Petrol</td>\n",
       "      <td>Dealer</td>\n",
       "      <td>Automatic</td>\n",
       "      <td>0</td>\n",
       "    </tr>\n",
       "    <tr>\n",
       "      <th>49</th>\n",
       "      <td>ciaz</td>\n",
       "      <td>2017</td>\n",
       "      <td>7.75</td>\n",
       "      <td>9.29</td>\n",
       "      <td>37000</td>\n",
       "      <td>Petrol</td>\n",
       "      <td>Dealer</td>\n",
       "      <td>Automatic</td>\n",
       "      <td>0</td>\n",
       "    </tr>\n",
       "    <tr>\n",
       "      <th>50</th>\n",
       "      <td>fortuner</td>\n",
       "      <td>2012</td>\n",
       "      <td>14.90</td>\n",
       "      <td>30.61</td>\n",
       "      <td>104707</td>\n",
       "      <td>Diesel</td>\n",
       "      <td>Dealer</td>\n",
       "      <td>Automatic</td>\n",
       "      <td>0</td>\n",
       "    </tr>\n",
       "    <tr>\n",
       "      <th>51</th>\n",
       "      <td>fortuner</td>\n",
       "      <td>2015</td>\n",
       "      <td>23.00</td>\n",
       "      <td>30.61</td>\n",
       "      <td>40000</td>\n",
       "      <td>Diesel</td>\n",
       "      <td>Dealer</td>\n",
       "      <td>Automatic</td>\n",
       "      <td>0</td>\n",
       "    </tr>\n",
       "    <tr>\n",
       "      <th>52</th>\n",
       "      <td>innova</td>\n",
       "      <td>2017</td>\n",
       "      <td>18.00</td>\n",
       "      <td>19.77</td>\n",
       "      <td>15000</td>\n",
       "      <td>Diesel</td>\n",
       "      <td>Dealer</td>\n",
       "      <td>Automatic</td>\n",
       "      <td>0</td>\n",
       "    </tr>\n",
       "    <tr>\n",
       "      <th>53</th>\n",
       "      <td>fortuner</td>\n",
       "      <td>2013</td>\n",
       "      <td>16.00</td>\n",
       "      <td>30.61</td>\n",
       "      <td>135000</td>\n",
       "      <td>Diesel</td>\n",
       "      <td>Individual</td>\n",
       "      <td>Automatic</td>\n",
       "      <td>0</td>\n",
       "    </tr>\n",
       "    <tr>\n",
       "      <th>55</th>\n",
       "      <td>corolla altis</td>\n",
       "      <td>2009</td>\n",
       "      <td>3.60</td>\n",
       "      <td>15.04</td>\n",
       "      <td>70000</td>\n",
       "      <td>Petrol</td>\n",
       "      <td>Dealer</td>\n",
       "      <td>Automatic</td>\n",
       "      <td>0</td>\n",
       "    </tr>\n",
       "    <tr>\n",
       "      <th>59</th>\n",
       "      <td>fortuner</td>\n",
       "      <td>2014</td>\n",
       "      <td>19.99</td>\n",
       "      <td>35.96</td>\n",
       "      <td>41000</td>\n",
       "      <td>Diesel</td>\n",
       "      <td>Dealer</td>\n",
       "      <td>Automatic</td>\n",
       "      <td>0</td>\n",
       "    </tr>\n",
       "    <tr>\n",
       "      <th>62</th>\n",
       "      <td>fortuner</td>\n",
       "      <td>2014</td>\n",
       "      <td>18.75</td>\n",
       "      <td>35.96</td>\n",
       "      <td>78000</td>\n",
       "      <td>Diesel</td>\n",
       "      <td>Dealer</td>\n",
       "      <td>Automatic</td>\n",
       "      <td>0</td>\n",
       "    </tr>\n",
       "    <tr>\n",
       "      <th>63</th>\n",
       "      <td>fortuner</td>\n",
       "      <td>2015</td>\n",
       "      <td>23.50</td>\n",
       "      <td>35.96</td>\n",
       "      <td>47000</td>\n",
       "      <td>Diesel</td>\n",
       "      <td>Dealer</td>\n",
       "      <td>Automatic</td>\n",
       "      <td>0</td>\n",
       "    </tr>\n",
       "    <tr>\n",
       "      <th>64</th>\n",
       "      <td>fortuner</td>\n",
       "      <td>2017</td>\n",
       "      <td>33.00</td>\n",
       "      <td>36.23</td>\n",
       "      <td>6000</td>\n",
       "      <td>Diesel</td>\n",
       "      <td>Dealer</td>\n",
       "      <td>Automatic</td>\n",
       "      <td>0</td>\n",
       "    </tr>\n",
       "    <tr>\n",
       "      <th>66</th>\n",
       "      <td>innova</td>\n",
       "      <td>2017</td>\n",
       "      <td>19.75</td>\n",
       "      <td>23.15</td>\n",
       "      <td>11000</td>\n",
       "      <td>Petrol</td>\n",
       "      <td>Dealer</td>\n",
       "      <td>Automatic</td>\n",
       "      <td>0</td>\n",
       "    </tr>\n",
       "    <tr>\n",
       "      <th>77</th>\n",
       "      <td>corolla</td>\n",
       "      <td>2004</td>\n",
       "      <td>1.50</td>\n",
       "      <td>12.35</td>\n",
       "      <td>135154</td>\n",
       "      <td>Petrol</td>\n",
       "      <td>Dealer</td>\n",
       "      <td>Automatic</td>\n",
       "      <td>0</td>\n",
       "    </tr>\n",
       "    <tr>\n",
       "      <th>78</th>\n",
       "      <td>corolla altis</td>\n",
       "      <td>2010</td>\n",
       "      <td>5.25</td>\n",
       "      <td>22.83</td>\n",
       "      <td>80000</td>\n",
       "      <td>Petrol</td>\n",
       "      <td>Dealer</td>\n",
       "      <td>Automatic</td>\n",
       "      <td>0</td>\n",
       "    </tr>\n",
       "    <tr>\n",
       "      <th>79</th>\n",
       "      <td>fortuner</td>\n",
       "      <td>2012</td>\n",
       "      <td>14.50</td>\n",
       "      <td>30.61</td>\n",
       "      <td>89000</td>\n",
       "      <td>Diesel</td>\n",
       "      <td>Dealer</td>\n",
       "      <td>Automatic</td>\n",
       "      <td>0</td>\n",
       "    </tr>\n",
       "    <tr>\n",
       "      <th>82</th>\n",
       "      <td>innova</td>\n",
       "      <td>2017</td>\n",
       "      <td>23.00</td>\n",
       "      <td>25.39</td>\n",
       "      <td>15000</td>\n",
       "      <td>Diesel</td>\n",
       "      <td>Dealer</td>\n",
       "      <td>Automatic</td>\n",
       "      <td>0</td>\n",
       "    </tr>\n",
       "    <tr>\n",
       "      <th>85</th>\n",
       "      <td>camry</td>\n",
       "      <td>2006</td>\n",
       "      <td>2.50</td>\n",
       "      <td>23.73</td>\n",
       "      <td>142000</td>\n",
       "      <td>Petrol</td>\n",
       "      <td>Individual</td>\n",
       "      <td>Automatic</td>\n",
       "      <td>3</td>\n",
       "    </tr>\n",
       "    <tr>\n",
       "      <th>93</th>\n",
       "      <td>fortuner</td>\n",
       "      <td>2015</td>\n",
       "      <td>23.00</td>\n",
       "      <td>30.61</td>\n",
       "      <td>40000</td>\n",
       "      <td>Diesel</td>\n",
       "      <td>Dealer</td>\n",
       "      <td>Automatic</td>\n",
       "      <td>0</td>\n",
       "    </tr>\n",
       "    <tr>\n",
       "      <th>94</th>\n",
       "      <td>corolla altis</td>\n",
       "      <td>2008</td>\n",
       "      <td>4.00</td>\n",
       "      <td>22.78</td>\n",
       "      <td>89000</td>\n",
       "      <td>Petrol</td>\n",
       "      <td>Dealer</td>\n",
       "      <td>Automatic</td>\n",
       "      <td>0</td>\n",
       "    </tr>\n",
       "    <tr>\n",
       "      <th>96</th>\n",
       "      <td>innova</td>\n",
       "      <td>2016</td>\n",
       "      <td>20.75</td>\n",
       "      <td>25.39</td>\n",
       "      <td>29000</td>\n",
       "      <td>Diesel</td>\n",
       "      <td>Dealer</td>\n",
       "      <td>Automatic</td>\n",
       "      <td>0</td>\n",
       "    </tr>\n",
       "    <tr>\n",
       "      <th>155</th>\n",
       "      <td>Honda Activa 4G</td>\n",
       "      <td>2017</td>\n",
       "      <td>0.48</td>\n",
       "      <td>0.51</td>\n",
       "      <td>4300</td>\n",
       "      <td>Petrol</td>\n",
       "      <td>Individual</td>\n",
       "      <td>Automatic</td>\n",
       "      <td>0</td>\n",
       "    </tr>\n",
       "    <tr>\n",
       "      <th>159</th>\n",
       "      <td>Honda Activa 4G</td>\n",
       "      <td>2017</td>\n",
       "      <td>0.45</td>\n",
       "      <td>0.51</td>\n",
       "      <td>4000</td>\n",
       "      <td>Petrol</td>\n",
       "      <td>Individual</td>\n",
       "      <td>Automatic</td>\n",
       "      <td>0</td>\n",
       "    </tr>\n",
       "    <tr>\n",
       "      <th>165</th>\n",
       "      <td>Activa 3g</td>\n",
       "      <td>2016</td>\n",
       "      <td>0.45</td>\n",
       "      <td>0.54</td>\n",
       "      <td>500</td>\n",
       "      <td>Petrol</td>\n",
       "      <td>Individual</td>\n",
       "      <td>Automatic</td>\n",
       "      <td>0</td>\n",
       "    </tr>\n",
       "    <tr>\n",
       "      <th>173</th>\n",
       "      <td>Activa 4g</td>\n",
       "      <td>2017</td>\n",
       "      <td>0.40</td>\n",
       "      <td>0.51</td>\n",
       "      <td>1300</td>\n",
       "      <td>Petrol</td>\n",
       "      <td>Individual</td>\n",
       "      <td>Automatic</td>\n",
       "      <td>0</td>\n",
       "    </tr>\n",
       "    <tr>\n",
       "      <th>177</th>\n",
       "      <td>Honda Activa 125</td>\n",
       "      <td>2016</td>\n",
       "      <td>0.35</td>\n",
       "      <td>0.57</td>\n",
       "      <td>24000</td>\n",
       "      <td>Petrol</td>\n",
       "      <td>Individual</td>\n",
       "      <td>Automatic</td>\n",
       "      <td>0</td>\n",
       "    </tr>\n",
       "    <tr>\n",
       "      <th>178</th>\n",
       "      <td>TVS Jupyter</td>\n",
       "      <td>2014</td>\n",
       "      <td>0.35</td>\n",
       "      <td>0.52</td>\n",
       "      <td>19000</td>\n",
       "      <td>Petrol</td>\n",
       "      <td>Individual</td>\n",
       "      <td>Automatic</td>\n",
       "      <td>0</td>\n",
       "    </tr>\n",
       "    <tr>\n",
       "      <th>185</th>\n",
       "      <td>Suzuki Access 125</td>\n",
       "      <td>2008</td>\n",
       "      <td>0.25</td>\n",
       "      <td>0.58</td>\n",
       "      <td>1900</td>\n",
       "      <td>Petrol</td>\n",
       "      <td>Individual</td>\n",
       "      <td>Automatic</td>\n",
       "      <td>0</td>\n",
       "    </tr>\n",
       "    <tr>\n",
       "      <th>186</th>\n",
       "      <td>TVS Wego</td>\n",
       "      <td>2010</td>\n",
       "      <td>0.25</td>\n",
       "      <td>0.52</td>\n",
       "      <td>22000</td>\n",
       "      <td>Petrol</td>\n",
       "      <td>Individual</td>\n",
       "      <td>Automatic</td>\n",
       "      <td>0</td>\n",
       "    </tr>\n",
       "    <tr>\n",
       "      <th>196</th>\n",
       "      <td>Activa 3g</td>\n",
       "      <td>2008</td>\n",
       "      <td>0.17</td>\n",
       "      <td>0.52</td>\n",
       "      <td>500000</td>\n",
       "      <td>Petrol</td>\n",
       "      <td>Individual</td>\n",
       "      <td>Automatic</td>\n",
       "      <td>0</td>\n",
       "    </tr>\n",
       "    <tr>\n",
       "      <th>207</th>\n",
       "      <td>grand i10</td>\n",
       "      <td>2015</td>\n",
       "      <td>5.15</td>\n",
       "      <td>5.70</td>\n",
       "      <td>34797</td>\n",
       "      <td>Petrol</td>\n",
       "      <td>Dealer</td>\n",
       "      <td>Automatic</td>\n",
       "      <td>0</td>\n",
       "    </tr>\n",
       "    <tr>\n",
       "      <th>221</th>\n",
       "      <td>i20</td>\n",
       "      <td>2013</td>\n",
       "      <td>4.50</td>\n",
       "      <td>6.79</td>\n",
       "      <td>32000</td>\n",
       "      <td>Petrol</td>\n",
       "      <td>Dealer</td>\n",
       "      <td>Automatic</td>\n",
       "      <td>0</td>\n",
       "    </tr>\n",
       "    <tr>\n",
       "      <th>224</th>\n",
       "      <td>verna</td>\n",
       "      <td>2013</td>\n",
       "      <td>5.11</td>\n",
       "      <td>9.40</td>\n",
       "      <td>36198</td>\n",
       "      <td>Petrol</td>\n",
       "      <td>Dealer</td>\n",
       "      <td>Automatic</td>\n",
       "      <td>0</td>\n",
       "    </tr>\n",
       "    <tr>\n",
       "      <th>232</th>\n",
       "      <td>elantra</td>\n",
       "      <td>2015</td>\n",
       "      <td>11.45</td>\n",
       "      <td>14.79</td>\n",
       "      <td>12900</td>\n",
       "      <td>Petrol</td>\n",
       "      <td>Dealer</td>\n",
       "      <td>Automatic</td>\n",
       "      <td>0</td>\n",
       "    </tr>\n",
       "    <tr>\n",
       "      <th>252</th>\n",
       "      <td>brio</td>\n",
       "      <td>2015</td>\n",
       "      <td>5.40</td>\n",
       "      <td>6.82</td>\n",
       "      <td>31427</td>\n",
       "      <td>Petrol</td>\n",
       "      <td>Dealer</td>\n",
       "      <td>Automatic</td>\n",
       "      <td>0</td>\n",
       "    </tr>\n",
       "    <tr>\n",
       "      <th>275</th>\n",
       "      <td>city</td>\n",
       "      <td>2016</td>\n",
       "      <td>10.90</td>\n",
       "      <td>13.60</td>\n",
       "      <td>30753</td>\n",
       "      <td>Petrol</td>\n",
       "      <td>Dealer</td>\n",
       "      <td>Automatic</td>\n",
       "      <td>0</td>\n",
       "    </tr>\n",
       "    <tr>\n",
       "      <th>285</th>\n",
       "      <td>jazz</td>\n",
       "      <td>2016</td>\n",
       "      <td>7.40</td>\n",
       "      <td>8.50</td>\n",
       "      <td>15059</td>\n",
       "      <td>Petrol</td>\n",
       "      <td>Dealer</td>\n",
       "      <td>Automatic</td>\n",
       "      <td>0</td>\n",
       "    </tr>\n",
       "    <tr>\n",
       "      <th>287</th>\n",
       "      <td>amaze</td>\n",
       "      <td>2015</td>\n",
       "      <td>5.75</td>\n",
       "      <td>7.50</td>\n",
       "      <td>44000</td>\n",
       "      <td>Petrol</td>\n",
       "      <td>Dealer</td>\n",
       "      <td>Automatic</td>\n",
       "      <td>0</td>\n",
       "    </tr>\n",
       "  </tbody>\n",
       "</table>\n",
       "</div>"
      ],
      "text/plain": [
       "              Car_Name  Year  Selling_Price  Present_Price  Kms_Driven  \\\n",
       "12                ciaz  2015           7.50           9.94       15000   \n",
       "22                 sx4  2011           4.40           8.01       50000   \n",
       "40              baleno  2016           5.85           7.87       24524   \n",
       "45                ciaz  2014           7.50          12.04       15000   \n",
       "49                ciaz  2017           7.75           9.29       37000   \n",
       "50            fortuner  2012          14.90          30.61      104707   \n",
       "51            fortuner  2015          23.00          30.61       40000   \n",
       "52              innova  2017          18.00          19.77       15000   \n",
       "53            fortuner  2013          16.00          30.61      135000   \n",
       "55       corolla altis  2009           3.60          15.04       70000   \n",
       "59            fortuner  2014          19.99          35.96       41000   \n",
       "62            fortuner  2014          18.75          35.96       78000   \n",
       "63            fortuner  2015          23.50          35.96       47000   \n",
       "64            fortuner  2017          33.00          36.23        6000   \n",
       "66              innova  2017          19.75          23.15       11000   \n",
       "77             corolla  2004           1.50          12.35      135154   \n",
       "78       corolla altis  2010           5.25          22.83       80000   \n",
       "79            fortuner  2012          14.50          30.61       89000   \n",
       "82              innova  2017          23.00          25.39       15000   \n",
       "85               camry  2006           2.50          23.73      142000   \n",
       "93            fortuner  2015          23.00          30.61       40000   \n",
       "94       corolla altis  2008           4.00          22.78       89000   \n",
       "96              innova  2016          20.75          25.39       29000   \n",
       "155    Honda Activa 4G  2017           0.48           0.51        4300   \n",
       "159    Honda Activa 4G  2017           0.45           0.51        4000   \n",
       "165          Activa 3g  2016           0.45           0.54         500   \n",
       "173          Activa 4g  2017           0.40           0.51        1300   \n",
       "177   Honda Activa 125  2016           0.35           0.57       24000   \n",
       "178        TVS Jupyter  2014           0.35           0.52       19000   \n",
       "185  Suzuki Access 125  2008           0.25           0.58        1900   \n",
       "186           TVS Wego  2010           0.25           0.52       22000   \n",
       "196          Activa 3g  2008           0.17           0.52      500000   \n",
       "207          grand i10  2015           5.15           5.70       34797   \n",
       "221                i20  2013           4.50           6.79       32000   \n",
       "224              verna  2013           5.11           9.40       36198   \n",
       "232            elantra  2015          11.45          14.79       12900   \n",
       "252               brio  2015           5.40           6.82       31427   \n",
       "275               city  2016          10.90          13.60       30753   \n",
       "285               jazz  2016           7.40           8.50       15059   \n",
       "287              amaze  2015           5.75           7.50       44000   \n",
       "\n",
       "    Fuel_Type Seller_Type Transmission  Owner  \n",
       "12     Petrol      Dealer    Automatic      0  \n",
       "22     Petrol      Dealer    Automatic      0  \n",
       "40     Petrol      Dealer    Automatic      0  \n",
       "45     Petrol      Dealer    Automatic      0  \n",
       "49     Petrol      Dealer    Automatic      0  \n",
       "50     Diesel      Dealer    Automatic      0  \n",
       "51     Diesel      Dealer    Automatic      0  \n",
       "52     Diesel      Dealer    Automatic      0  \n",
       "53     Diesel  Individual    Automatic      0  \n",
       "55     Petrol      Dealer    Automatic      0  \n",
       "59     Diesel      Dealer    Automatic      0  \n",
       "62     Diesel      Dealer    Automatic      0  \n",
       "63     Diesel      Dealer    Automatic      0  \n",
       "64     Diesel      Dealer    Automatic      0  \n",
       "66     Petrol      Dealer    Automatic      0  \n",
       "77     Petrol      Dealer    Automatic      0  \n",
       "78     Petrol      Dealer    Automatic      0  \n",
       "79     Diesel      Dealer    Automatic      0  \n",
       "82     Diesel      Dealer    Automatic      0  \n",
       "85     Petrol  Individual    Automatic      3  \n",
       "93     Diesel      Dealer    Automatic      0  \n",
       "94     Petrol      Dealer    Automatic      0  \n",
       "96     Diesel      Dealer    Automatic      0  \n",
       "155    Petrol  Individual    Automatic      0  \n",
       "159    Petrol  Individual    Automatic      0  \n",
       "165    Petrol  Individual    Automatic      0  \n",
       "173    Petrol  Individual    Automatic      0  \n",
       "177    Petrol  Individual    Automatic      0  \n",
       "178    Petrol  Individual    Automatic      0  \n",
       "185    Petrol  Individual    Automatic      0  \n",
       "186    Petrol  Individual    Automatic      0  \n",
       "196    Petrol  Individual    Automatic      0  \n",
       "207    Petrol      Dealer    Automatic      0  \n",
       "221    Petrol      Dealer    Automatic      0  \n",
       "224    Petrol      Dealer    Automatic      0  \n",
       "232    Petrol      Dealer    Automatic      0  \n",
       "252    Petrol      Dealer    Automatic      0  \n",
       "275    Petrol      Dealer    Automatic      0  \n",
       "285    Petrol      Dealer    Automatic      0  \n",
       "287    Petrol      Dealer    Automatic      0  "
      ]
     },
     "execution_count": 34,
     "metadata": {},
     "output_type": "execute_result"
    }
   ],
   "source": [
    "df[df['Transmission']!='Manual']"
   ]
  },
  {
   "cell_type": "code",
   "execution_count": 35,
   "metadata": {},
   "outputs": [
    {
     "data": {
      "text/plain": [
       "count        301\n",
       "unique         2\n",
       "top       Dealer\n",
       "freq         195\n",
       "Name: Seller_Type, dtype: object"
      ]
     },
     "execution_count": 35,
     "metadata": {},
     "output_type": "execute_result"
    }
   ],
   "source": [
    "df['Seller_Type'].describe()"
   ]
  },
  {
   "cell_type": "code",
   "execution_count": 37,
   "metadata": {},
   "outputs": [
    {
     "data": {
      "text/html": [
       "<div>\n",
       "<style scoped>\n",
       "    .dataframe tbody tr th:only-of-type {\n",
       "        vertical-align: middle;\n",
       "    }\n",
       "\n",
       "    .dataframe tbody tr th {\n",
       "        vertical-align: top;\n",
       "    }\n",
       "\n",
       "    .dataframe thead th {\n",
       "        text-align: right;\n",
       "    }\n",
       "</style>\n",
       "<table border=\"1\" class=\"dataframe\">\n",
       "  <thead>\n",
       "    <tr style=\"text-align: right;\">\n",
       "      <th></th>\n",
       "      <th>Car_Name</th>\n",
       "      <th>Year</th>\n",
       "      <th>Selling_Price</th>\n",
       "      <th>Present_Price</th>\n",
       "      <th>Kms_Driven</th>\n",
       "      <th>Fuel_Type</th>\n",
       "      <th>Seller_Type</th>\n",
       "      <th>Transmission</th>\n",
       "      <th>Owner</th>\n",
       "    </tr>\n",
       "  </thead>\n",
       "  <tbody>\n",
       "    <tr>\n",
       "      <th>27</th>\n",
       "      <td>swift</td>\n",
       "      <td>2017</td>\n",
       "      <td>6.00</td>\n",
       "      <td>6.49</td>\n",
       "      <td>16200</td>\n",
       "      <td>Petrol</td>\n",
       "      <td>Individual</td>\n",
       "      <td>Manual</td>\n",
       "      <td>0</td>\n",
       "    </tr>\n",
       "    <tr>\n",
       "      <th>37</th>\n",
       "      <td>800</td>\n",
       "      <td>2003</td>\n",
       "      <td>0.35</td>\n",
       "      <td>2.28</td>\n",
       "      <td>127000</td>\n",
       "      <td>Petrol</td>\n",
       "      <td>Individual</td>\n",
       "      <td>Manual</td>\n",
       "      <td>0</td>\n",
       "    </tr>\n",
       "    <tr>\n",
       "      <th>53</th>\n",
       "      <td>fortuner</td>\n",
       "      <td>2013</td>\n",
       "      <td>16.00</td>\n",
       "      <td>30.61</td>\n",
       "      <td>135000</td>\n",
       "      <td>Diesel</td>\n",
       "      <td>Individual</td>\n",
       "      <td>Automatic</td>\n",
       "      <td>0</td>\n",
       "    </tr>\n",
       "    <tr>\n",
       "      <th>54</th>\n",
       "      <td>innova</td>\n",
       "      <td>2005</td>\n",
       "      <td>2.75</td>\n",
       "      <td>10.21</td>\n",
       "      <td>90000</td>\n",
       "      <td>Petrol</td>\n",
       "      <td>Individual</td>\n",
       "      <td>Manual</td>\n",
       "      <td>0</td>\n",
       "    </tr>\n",
       "    <tr>\n",
       "      <th>85</th>\n",
       "      <td>camry</td>\n",
       "      <td>2006</td>\n",
       "      <td>2.50</td>\n",
       "      <td>23.73</td>\n",
       "      <td>142000</td>\n",
       "      <td>Petrol</td>\n",
       "      <td>Individual</td>\n",
       "      <td>Automatic</td>\n",
       "      <td>3</td>\n",
       "    </tr>\n",
       "    <tr>\n",
       "      <th>...</th>\n",
       "      <td>...</td>\n",
       "      <td>...</td>\n",
       "      <td>...</td>\n",
       "      <td>...</td>\n",
       "      <td>...</td>\n",
       "      <td>...</td>\n",
       "      <td>...</td>\n",
       "      <td>...</td>\n",
       "      <td>...</td>\n",
       "    </tr>\n",
       "    <tr>\n",
       "      <th>196</th>\n",
       "      <td>Activa 3g</td>\n",
       "      <td>2008</td>\n",
       "      <td>0.17</td>\n",
       "      <td>0.52</td>\n",
       "      <td>500000</td>\n",
       "      <td>Petrol</td>\n",
       "      <td>Individual</td>\n",
       "      <td>Automatic</td>\n",
       "      <td>0</td>\n",
       "    </tr>\n",
       "    <tr>\n",
       "      <th>197</th>\n",
       "      <td>Honda CB twister</td>\n",
       "      <td>2010</td>\n",
       "      <td>0.16</td>\n",
       "      <td>0.51</td>\n",
       "      <td>33000</td>\n",
       "      <td>Petrol</td>\n",
       "      <td>Individual</td>\n",
       "      <td>Manual</td>\n",
       "      <td>0</td>\n",
       "    </tr>\n",
       "    <tr>\n",
       "      <th>198</th>\n",
       "      <td>Bajaj Discover 125</td>\n",
       "      <td>2011</td>\n",
       "      <td>0.15</td>\n",
       "      <td>0.57</td>\n",
       "      <td>35000</td>\n",
       "      <td>Petrol</td>\n",
       "      <td>Individual</td>\n",
       "      <td>Manual</td>\n",
       "      <td>1</td>\n",
       "    </tr>\n",
       "    <tr>\n",
       "      <th>199</th>\n",
       "      <td>Honda CB Shine</td>\n",
       "      <td>2007</td>\n",
       "      <td>0.12</td>\n",
       "      <td>0.58</td>\n",
       "      <td>53000</td>\n",
       "      <td>Petrol</td>\n",
       "      <td>Individual</td>\n",
       "      <td>Manual</td>\n",
       "      <td>0</td>\n",
       "    </tr>\n",
       "    <tr>\n",
       "      <th>200</th>\n",
       "      <td>Bajaj Pulsar 150</td>\n",
       "      <td>2006</td>\n",
       "      <td>0.10</td>\n",
       "      <td>0.75</td>\n",
       "      <td>92233</td>\n",
       "      <td>Petrol</td>\n",
       "      <td>Individual</td>\n",
       "      <td>Manual</td>\n",
       "      <td>0</td>\n",
       "    </tr>\n",
       "  </tbody>\n",
       "</table>\n",
       "<p>106 rows × 9 columns</p>\n",
       "</div>"
      ],
      "text/plain": [
       "               Car_Name  Year  Selling_Price  Present_Price  Kms_Driven  \\\n",
       "27                swift  2017           6.00           6.49       16200   \n",
       "37                  800  2003           0.35           2.28      127000   \n",
       "53             fortuner  2013          16.00          30.61      135000   \n",
       "54               innova  2005           2.75          10.21       90000   \n",
       "85                camry  2006           2.50          23.73      142000   \n",
       "..                  ...   ...            ...            ...         ...   \n",
       "196           Activa 3g  2008           0.17           0.52      500000   \n",
       "197    Honda CB twister  2010           0.16           0.51       33000   \n",
       "198  Bajaj Discover 125  2011           0.15           0.57       35000   \n",
       "199      Honda CB Shine  2007           0.12           0.58       53000   \n",
       "200    Bajaj Pulsar 150  2006           0.10           0.75       92233   \n",
       "\n",
       "    Fuel_Type Seller_Type Transmission  Owner  \n",
       "27     Petrol  Individual       Manual      0  \n",
       "37     Petrol  Individual       Manual      0  \n",
       "53     Diesel  Individual    Automatic      0  \n",
       "54     Petrol  Individual       Manual      0  \n",
       "85     Petrol  Individual    Automatic      3  \n",
       "..        ...         ...          ...    ...  \n",
       "196    Petrol  Individual    Automatic      0  \n",
       "197    Petrol  Individual       Manual      0  \n",
       "198    Petrol  Individual       Manual      1  \n",
       "199    Petrol  Individual       Manual      0  \n",
       "200    Petrol  Individual       Manual      0  \n",
       "\n",
       "[106 rows x 9 columns]"
      ]
     },
     "execution_count": 37,
     "metadata": {},
     "output_type": "execute_result"
    }
   ],
   "source": [
    "df[df['Seller_Type']!='Dealer']"
   ]
  },
  {
   "cell_type": "code",
   "execution_count": 38,
   "metadata": {},
   "outputs": [
    {
     "data": {
      "text/plain": [
       "array(['Dealer', 'Individual'], dtype=object)"
      ]
     },
     "execution_count": 38,
     "metadata": {},
     "output_type": "execute_result"
    }
   ],
   "source": [
    "df['Seller_Type'].unique()"
   ]
  },
  {
   "cell_type": "code",
   "execution_count": 39,
   "metadata": {},
   "outputs": [
    {
     "data": {
      "text/plain": [
       "array(['Petrol', 'Diesel', 'CNG'], dtype=object)"
      ]
     },
     "execution_count": 39,
     "metadata": {},
     "output_type": "execute_result"
    }
   ],
   "source": [
    "df['Fuel_Type'].unique()"
   ]
  },
  {
   "cell_type": "code",
   "execution_count": 45,
   "metadata": {},
   "outputs": [
    {
     "data": {
      "text/plain": [
       "False"
      ]
     },
     "execution_count": 45,
     "metadata": {},
     "output_type": "execute_result"
    }
   ],
   "source": [
    "df.isnull().values.any()"
   ]
  },
  {
   "cell_type": "code",
   "execution_count": 48,
   "metadata": {},
   "outputs": [
    {
     "data": {
      "text/plain": [
       "array([2014, 2013, 2017, 2011, 2018, 2015, 2016, 2009, 2010, 2012, 2003,\n",
       "       2008, 2006, 2005, 2004, 2007], dtype=int64)"
      ]
     },
     "execution_count": 48,
     "metadata": {},
     "output_type": "execute_result"
    }
   ],
   "source": [
    "df['Year'].unique()"
   ]
  },
  {
   "cell_type": "code",
   "execution_count": 50,
   "metadata": {},
   "outputs": [
    {
     "data": {
      "text/plain": [
       "count       301.000000\n",
       "mean      36947.205980\n",
       "std       38886.883882\n",
       "min         500.000000\n",
       "25%       15000.000000\n",
       "50%       32000.000000\n",
       "75%       48767.000000\n",
       "max      500000.000000\n",
       "Name: Kms_Driven, dtype: float64"
      ]
     },
     "execution_count": 50,
     "metadata": {},
     "output_type": "execute_result"
    }
   ],
   "source": [
    "df['Kms_Driven'].describe()"
   ]
  },
  {
   "cell_type": "code",
   "execution_count": 55,
   "metadata": {},
   "outputs": [
    {
     "data": {
      "text/plain": [
       "count    301.000000\n",
       "mean       4.661296\n",
       "std        5.082812\n",
       "min        0.100000\n",
       "25%        0.900000\n",
       "50%        3.600000\n",
       "75%        6.000000\n",
       "max       35.000000\n",
       "Name: Selling_Price, dtype: float64"
      ]
     },
     "execution_count": 55,
     "metadata": {},
     "output_type": "execute_result"
    }
   ],
   "source": [
    "df['Selling_Price'].describe()"
   ]
  },
  {
   "cell_type": "code",
   "execution_count": 53,
   "metadata": {},
   "outputs": [
    {
     "data": {
      "text/plain": [
       "count    301.000000\n",
       "mean       7.628472\n",
       "std        8.644115\n",
       "min        0.320000\n",
       "25%        1.200000\n",
       "50%        6.400000\n",
       "75%        9.900000\n",
       "max       92.600000\n",
       "Name: Present_Price, dtype: float64"
      ]
     },
     "execution_count": 53,
     "metadata": {},
     "output_type": "execute_result"
    }
   ],
   "source": [
    "df['Present_Price'].describe()"
   ]
  },
  {
   "cell_type": "code",
   "execution_count": 56,
   "metadata": {},
   "outputs": [
    {
     "data": {
      "text/plain": [
       "<matplotlib.axes._subplots.AxesSubplot at 0x21a26f96fc8>"
      ]
     },
     "execution_count": 56,
     "metadata": {},
     "output_type": "execute_result"
    },
    {
     "data": {
      "image/png": "[encoded data removed]",
      "text/plain": [
       "<Figure size 432x288 with 1 Axes>"
      ]
     },
     "metadata": {},
     "output_type": "display_data"
    }
   ],
   "source": [
    "sns.set()\n",
    "sns.distplot(df['Present_Price'])"
   ]
  },
  {
   "cell_type": "code",
   "execution_count": 57,
   "metadata": {},
   "outputs": [
    {
     "data": {
      "text/plain": [
       "<matplotlib.axes._subplots.AxesSubplot at 0x21a2717dcc8>"
      ]
     },
     "execution_count": 57,
     "metadata": {},
     "output_type": "execute_result"
    },
    {
     "data": {
      "image/png": "[encoded data removed]",
      "text/plain": [
       "<Figure size 432x288 with 1 Axes>"
      ]
     },
     "metadata": {},
     "output_type": "display_data"
    }
   ],
   "source": [
    "sns.boxplot(df['Present_Price'])"
   ]
  },
  {
   "cell_type": "code",
   "execution_count": 58,
   "metadata": {},
   "outputs": [
    {
     "data": {
      "text/plain": [
       "<matplotlib.axes._subplots.AxesSubplot at 0x21a2757d348>"
      ]
     },
     "execution_count": 58,
     "metadata": {},
     "output_type": "execute_result"
    },
    {
     "data": {
      "image/png": "[encoded data removed]",
      "text/plain": [
       "<Figure size 432x288 with 1 Axes>"
      ]
     },
     "metadata": {},
     "output_type": "display_data"
    }
   ],
   "source": [
    "sns.distplot(df['Kms_Driven'])"
   ]
  },
  {
   "cell_type": "code",
   "execution_count": 59,
   "metadata": {},
   "outputs": [
    {
     "data": {
      "text/plain": [
       "<matplotlib.axes._subplots.AxesSubplot at 0x21a271c8e08>"
      ]
     },
     "execution_count": 59,
     "metadata": {},
     "output_type": "execute_result"
    },
    {
     "data": {
      "image/png": "[encoded data removed]",
      "text/plain": [
       "<Figure size 432x288 with 1 Axes>"
      ]
     },
     "metadata": {},
     "output_type": "display_data"
    }
   ],
   "source": [
    "sns.boxplot(df['Kms_Driven'])"
   ]
  },
  {
   "cell_type": "code",
   "execution_count": 60,
   "metadata": {},
   "outputs": [
    {
     "data": {
      "text/plain": [
       "<matplotlib.axes._subplots.AxesSubplot at 0x21a270c2088>"
      ]
     },
     "execution_count": 60,
     "metadata": {},
     "output_type": "execute_result"
    },
    {
     "data": {
      "image/png": "[encoded data removed]",
      "text/plain": [
       "<Figure size 432x288 with 1 Axes>"
      ]
     },
     "metadata": {},
     "output_type": "display_data"
    }
   ],
   "source": [
    "sns.distplot(df['Selling_Price'])"
   ]
  },
  {
   "cell_type": "code",
   "execution_count": 61,
   "metadata": {},
   "outputs": [
    {
     "data": {
      "text/plain": [
       "<matplotlib.axes._subplots.AxesSubplot at 0x21a27439b08>"
      ]
     },
     "execution_count": 61,
     "metadata": {},
     "output_type": "execute_result"
    },
    {
     "data": {
      "image/png": "[encoded data removed]",
      "text/plain": [
       "<Figure size 432x288 with 1 Axes>"
      ]
     },
     "metadata": {},
     "output_type": "display_data"
    }
   ],
   "source": [
    "sns.boxplot(df['Selling_Price'])"
   ]
  },
  {
   "cell_type": "code",
   "execution_count": 62,
   "metadata": {},
   "outputs": [
    {
     "data": {
      "text/plain": [
       "<matplotlib.axes._subplots.AxesSubplot at 0x21a1f5f89c8>"
      ]
     },
     "execution_count": 62,
     "metadata": {},
     "output_type": "execute_result"
    },
    {
     "data": {
      "image/png": "[encoded data removed]",
      "text/plain": [
       "<Figure size 432x288 with 1 Axes>"
      ]
     },
     "metadata": {},
     "output_type": "display_data"
    }
   ],
   "source": [
    "sns.countplot(df['Fuel_Type'])"
   ]
  },
  {
   "cell_type": "code",
   "execution_count": 63,
   "metadata": {},
   "outputs": [
    {
     "data": {
      "text/plain": [
       "<matplotlib.axes._subplots.AxesSubplot at 0x21a276b5508>"
      ]
     },
     "execution_count": 63,
     "metadata": {},
     "output_type": "execute_result"
    },
    {
     "data": {
      "image/png": "[encoded data removed]",
      "text/plain": [
       "<Figure size 432x288 with 1 Axes>"
      ]
     },
     "metadata": {},
     "output_type": "display_data"
    }
   ],
   "source": [
    "sns.countplot(df['Seller_Type'])"
   ]
  },
  {
   "cell_type": "code",
   "execution_count": 64,
   "metadata": {},
   "outputs": [
    {
     "data": {
      "text/plain": [
       "<matplotlib.axes._subplots.AxesSubplot at 0x21a277c3888>"
      ]
     },
     "execution_count": 64,
     "metadata": {},
     "output_type": "execute_result"
    },
    {
     "data": {
      "image/png": "[encoded data removed]",
      "text/plain": [
       "<Figure size 432x288 with 1 Axes>"
      ]
     },
     "metadata": {},
     "output_type": "display_data"
    }
   ],
   "source": [
    "sns.countplot(df['Transmission'])"
   ]
  },
  {
   "cell_type": "code",
   "execution_count": 65,
   "metadata": {},
   "outputs": [
    {
     "data": {
      "text/plain": [
       "<matplotlib.axes._subplots.AxesSubplot at 0x21a27758588>"
      ]
     },
     "execution_count": 65,
     "metadata": {},
     "output_type": "execute_result"
    },
    {
     "data": {
      "image/png": "[encoded data removed]",
      "text/plain": [
       "<Figure size 432x288 with 1 Axes>"
      ]
     },
     "metadata": {},
     "output_type": "display_data"
    }
   ],
   "source": [
    "sns.countplot(df['Owner'])"
   ]
  },
  {
   "cell_type": "code",
   "execution_count": 70,
   "metadata": {},
   "outputs": [
    {
     "data": {
      "text/plain": [
       "<matplotlib.axes._subplots.AxesSubplot at 0x21a272d4488>"
      ]
     },
     "execution_count": 70,
     "metadata": {},
     "output_type": "execute_result"
    },
    {
     "data": {
      "image/png": "[encoded data removed]",
      "text/plain": [
       "<Figure size 720x360 with 1 Axes>"
      ]
     },
     "metadata": {},
     "output_type": "display_data"
    }
   ],
   "source": [
    "plt.figure(figsize=(10,5))\n",
    "sns.countplot(df['Year'])"
   ]
  },
  {
   "cell_type": "code",
   "execution_count": 72,
   "metadata": {},
   "outputs": [
    {
     "data": {
      "text/plain": [
       "<matplotlib.axes._subplots.AxesSubplot at 0x21a28c01ac8>"
      ]
     },
     "execution_count": 72,
     "metadata": {},
     "output_type": "execute_result"
    },
    {
     "data": {
      "image/png": "[encoded data removed]",
      "text/plain": [
       "<Figure size 1080x360 with 1 Axes>"
      ]
     },
     "metadata": {},
     "output_type": "display_data"
    }
   ],
   "source": [
    "plt.figure(figsize=(15,5))\n",
    "sns.countplot(df['Car_Name'])"
   ]
  },
  {
   "cell_type": "code",
   "execution_count": 74,
   "metadata": {},
   "outputs": [
    {
     "data": {
      "text/plain": [
       "<matplotlib.axes._subplots.AxesSubplot at 0x21a297369c8>"
      ]
     },
     "execution_count": 74,
     "metadata": {},
     "output_type": "execute_result"
    },
    {
     "data": {
      "image/png": "[encoded data removed]",
      "text/plain": [
       "<Figure size 432x288 with 1 Axes>"
      ]
     },
     "metadata": {},
     "output_type": "display_data"
    }
   ],
   "source": [
    "sns.scatterplot(df['Present_Price'],df['Selling_Price'])"
   ]
  },
  {
   "cell_type": "code",
   "execution_count": 211,
   "metadata": {},
   "outputs": [
    {
     "data": {
      "text/plain": [
       "<seaborn.axisgrid.PairGrid at 0x21a2e42c848>"
      ]
     },
     "execution_count": 211,
     "metadata": {},
     "output_type": "execute_result"
    },
    {
     "data": {
      "image/png": "[encoded data removed]",
      "text/plain": [
       "<Figure size 720x720 with 20 Axes>"
      ]
     },
     "metadata": {},
     "output_type": "display_data"
    }
   ],
   "source": [
    "sns.pairplot(df[['Transmission','Seller_Type','Fuel_Type','Year','Owner','Present_Price','Selling_Price']])"
   ]
  },
  {
   "cell_type": "code",
   "execution_count": 212,
   "metadata": {},
   "outputs": [
    {
     "data": {
      "text/plain": [
       "<matplotlib.axes._subplots.AxesSubplot at 0x21a2ec3d488>"
      ]
     },
     "execution_count": 212,
     "metadata": {},
     "output_type": "execute_result"
    },
    {
     "data": {
      "image/png": "[encoded data removed]",
      "text/plain": [
       "<Figure size 432x288 with 1 Axes>"
      ]
     },
     "metadata": {},
     "output_type": "display_data"
    }
   ],
   "source": [
    "sns.scatterplot(df['Kms_Driven'],df['Selling_Price'])"
   ]
  },
  {
   "cell_type": "code",
   "execution_count": 213,
   "metadata": {},
   "outputs": [
    {
     "data": {
      "text/plain": [
       "<matplotlib.axes._subplots.AxesSubplot at 0x21a2ef1b048>"
      ]
     },
     "execution_count": 213,
     "metadata": {},
     "output_type": "execute_result"
    },
    {
     "data": {
      "image/png": "[encoded data removed]",
      "text/plain": [
       "<Figure size 432x288 with 1 Axes>"
      ]
     },
     "metadata": {},
     "output_type": "display_data"
    }
   ],
   "source": [
    "sns.boxplot(df['Kms_Driven'],df['Selling_Price'])"
   ]
  },
  {
   "cell_type": "code",
   "execution_count": 214,
   "metadata": {},
   "outputs": [
    {
     "data": {
      "text/plain": [
       "<matplotlib.axes._subplots.AxesSubplot at 0x21a2fc0e248>"
      ]
     },
     "execution_count": 214,
     "metadata": {},
     "output_type": "execute_result"
    },
    {
     "data": {
      "image/png": "[encoded data removed]",
      "text/plain": [
       "<Figure size 432x288 with 1 Axes>"
      ]
     },
     "metadata": {},
     "output_type": "display_data"
    }
   ],
   "source": [
    "sns.scatterplot(df['Transmission'],df['Selling_Price'])"
   ]
  },
  {
   "cell_type": "code",
   "execution_count": 215,
   "metadata": {},
   "outputs": [
    {
     "data": {
      "text/plain": [
       "<matplotlib.axes._subplots.AxesSubplot at 0x21a3102ff48>"
      ]
     },
     "execution_count": 215,
     "metadata": {},
     "output_type": "execute_result"
    },
    {
     "data": {
      "image/png": "[encoded data removed]",
      "text/plain": [
       "<Figure size 432x288 with 1 Axes>"
      ]
     },
     "metadata": {},
     "output_type": "display_data"
    }
   ],
   "source": [
    "sns.scatterplot(df['Seller_Type'],df['Selling_Price'])"
   ]
  },
  {
   "cell_type": "code",
   "execution_count": 216,
   "metadata": {},
   "outputs": [
    {
     "data": {
      "text/plain": [
       "<matplotlib.axes._subplots.AxesSubplot at 0x21a30f91ac8>"
      ]
     },
     "execution_count": 216,
     "metadata": {},
     "output_type": "execute_result"
    },
    {
     "data": {
      "image/png": "[encoded data removed]",
      "text/plain": [
       "<Figure size 432x288 with 1 Axes>"
      ]
     },
     "metadata": {},
     "output_type": "display_data"
    }
   ],
   "source": [
    "sns.scatterplot(df['Fuel_Type'],df['Selling_Price'])"
   ]
  },
  {
   "cell_type": "code",
   "execution_count": null,
   "metadata": {},
   "outputs": [],
   "source": [
    "# Encoding of missing values"
   ]
  },
  {
   "cell_type": "code",
   "execution_count": null,
   "metadata": {},
   "outputs": [],
   "source": [
    "# from sklearn.impute import SimpleImputer\n",
    "# imputer=SimpleImputer(missing_values=np.nan,strategy='mean')\n",
    "# imputer.fit(X[:,1:3])\n",
    "# X[:,1:3]=imputer.transform(X[:,1:3])"
   ]
  },
  {
   "cell_type": "code",
   "execution_count": null,
   "metadata": {},
   "outputs": [],
   "source": []
  },
  {
   "cell_type": "code",
   "execution_count": 217,
   "metadata": {},
   "outputs": [],
   "source": [
    "#  One Hot Encoding Starts"
   ]
  },
  {
   "cell_type": "code",
   "execution_count": 252,
   "metadata": {},
   "outputs": [],
   "source": [
    "X=df[['Transmission','Seller_Type','Fuel_Type','Year','Owner','Present_Price']]"
   ]
  },
  {
   "cell_type": "code",
   "execution_count": 253,
   "metadata": {},
   "outputs": [
    {
     "data": {
      "text/plain": [
       "(    Transmission Seller_Type Fuel_Type  Year  Owner  Present_Price\n",
       " 0         Manual      Dealer    Petrol  2014      0           5.59\n",
       " 1         Manual      Dealer    Diesel  2013      0           9.54\n",
       " 2         Manual      Dealer    Petrol  2017      0           9.85\n",
       " 3         Manual      Dealer    Petrol  2011      0           4.15\n",
       " 4         Manual      Dealer    Diesel  2014      0           6.87\n",
       " ..           ...         ...       ...   ...    ...            ...\n",
       " 296       Manual      Dealer    Diesel  2016      0          11.60\n",
       " 297       Manual      Dealer    Petrol  2015      0           5.90\n",
       " 298       Manual      Dealer    Petrol  2009      0          11.00\n",
       " 299       Manual      Dealer    Diesel  2017      0          12.50\n",
       " 300       Manual      Dealer    Petrol  2016      0           5.90\n",
       " \n",
       " [301 rows x 6 columns],\n",
       "     Car_Name  Year  Selling_Price  Present_Price  Kms_Driven Fuel_Type  \\\n",
       " 0       ritz  2014           3.35           5.59       27000    Petrol   \n",
       " 1        sx4  2013           4.75           9.54       43000    Diesel   \n",
       " 2       ciaz  2017           7.25           9.85        6900    Petrol   \n",
       " 3    wagon r  2011           2.85           4.15        5200    Petrol   \n",
       " 4      swift  2014           4.60           6.87       42450    Diesel   \n",
       " ..       ...   ...            ...            ...         ...       ...   \n",
       " 296     city  2016           9.50          11.60       33988    Diesel   \n",
       " 297     brio  2015           4.00           5.90       60000    Petrol   \n",
       " 298     city  2009           3.35          11.00       87934    Petrol   \n",
       " 299     city  2017          11.50          12.50        9000    Diesel   \n",
       " 300     brio  2016           5.30           5.90        5464    Petrol   \n",
       " \n",
       "     Seller_Type Transmission  Owner  \n",
       " 0        Dealer       Manual      0  \n",
       " 1        Dealer       Manual      0  \n",
       " 2        Dealer       Manual      0  \n",
       " 3        Dealer       Manual      0  \n",
       " 4        Dealer       Manual      0  \n",
       " ..          ...          ...    ...  \n",
       " 296      Dealer       Manual      0  \n",
       " 297      Dealer       Manual      0  \n",
       " 298      Dealer       Manual      0  \n",
       " 299      Dealer       Manual      0  \n",
       " 300      Dealer       Manual      0  \n",
       " \n",
       " [301 rows x 9 columns])"
      ]
     },
     "execution_count": 253,
     "metadata": {},
     "output_type": "execute_result"
    }
   ],
   "source": [
    "X,df"
   ]
  },
  {
   "cell_type": "code",
   "execution_count": 254,
   "metadata": {},
   "outputs": [],
   "source": [
    "y=df['Selling_Price']"
   ]
  },
  {
   "cell_type": "code",
   "execution_count": 255,
   "metadata": {},
   "outputs": [
    {
     "data": {
      "text/plain": [
       "0       3.35\n",
       "1       4.75\n",
       "2       7.25\n",
       "3       2.85\n",
       "4       4.60\n",
       "       ...  \n",
       "296     9.50\n",
       "297     4.00\n",
       "298     3.35\n",
       "299    11.50\n",
       "300     5.30\n",
       "Name: Selling_Price, Length: 301, dtype: float64"
      ]
     },
     "execution_count": 255,
     "metadata": {},
     "output_type": "execute_result"
    }
   ],
   "source": [
    "y"
   ]
  },
  {
   "cell_type": "code",
   "execution_count": 256,
   "metadata": {},
   "outputs": [
    {
     "data": {
      "text/plain": [
       "(    Transmission Seller_Type Fuel_Type  Year  Owner  Present_Price\n",
       " 0         Manual      Dealer    Petrol  2014      0           5.59\n",
       " 1         Manual      Dealer    Diesel  2013      0           9.54\n",
       " 2         Manual      Dealer    Petrol  2017      0           9.85\n",
       " 3         Manual      Dealer    Petrol  2011      0           4.15\n",
       " 4         Manual      Dealer    Diesel  2014      0           6.87\n",
       " ..           ...         ...       ...   ...    ...            ...\n",
       " 296       Manual      Dealer    Diesel  2016      0          11.60\n",
       " 297       Manual      Dealer    Petrol  2015      0           5.90\n",
       " 298       Manual      Dealer    Petrol  2009      0          11.00\n",
       " 299       Manual      Dealer    Diesel  2017      0          12.50\n",
       " 300       Manual      Dealer    Petrol  2016      0           5.90\n",
       " \n",
       " [301 rows x 6 columns],\n",
       " 0       3.35\n",
       " 1       4.75\n",
       " 2       7.25\n",
       " 3       2.85\n",
       " 4       4.60\n",
       "        ...  \n",
       " 296     9.50\n",
       " 297     4.00\n",
       " 298     3.35\n",
       " 299    11.50\n",
       " 300     5.30\n",
       " Name: Selling_Price, Length: 301, dtype: float64)"
      ]
     },
     "execution_count": 256,
     "metadata": {},
     "output_type": "execute_result"
    }
   ],
   "source": [
    "X,y"
   ]
  },
  {
   "cell_type": "code",
   "execution_count": 257,
   "metadata": {},
   "outputs": [
    {
     "data": {
      "text/html": [
       "<div>\n",
       "<style scoped>\n",
       "    .dataframe tbody tr th:only-of-type {\n",
       "        vertical-align: middle;\n",
       "    }\n",
       "\n",
       "    .dataframe tbody tr th {\n",
       "        vertical-align: top;\n",
       "    }\n",
       "\n",
       "    .dataframe thead th {\n",
       "        text-align: right;\n",
       "    }\n",
       "</style>\n",
       "<table border=\"1\" class=\"dataframe\">\n",
       "  <thead>\n",
       "    <tr style=\"text-align: right;\">\n",
       "      <th></th>\n",
       "      <th>Transmission</th>\n",
       "      <th>Seller_Type</th>\n",
       "      <th>Fuel_Type</th>\n",
       "      <th>Year</th>\n",
       "      <th>Owner</th>\n",
       "      <th>Present_Price</th>\n",
       "    </tr>\n",
       "  </thead>\n",
       "  <tbody>\n",
       "    <tr>\n",
       "      <th>0</th>\n",
       "      <td>Manual</td>\n",
       "      <td>Dealer</td>\n",
       "      <td>Petrol</td>\n",
       "      <td>2014</td>\n",
       "      <td>0</td>\n",
       "      <td>5.59</td>\n",
       "    </tr>\n",
       "    <tr>\n",
       "      <th>1</th>\n",
       "      <td>Manual</td>\n",
       "      <td>Dealer</td>\n",
       "      <td>Diesel</td>\n",
       "      <td>2013</td>\n",
       "      <td>0</td>\n",
       "      <td>9.54</td>\n",
       "    </tr>\n",
       "    <tr>\n",
       "      <th>2</th>\n",
       "      <td>Manual</td>\n",
       "      <td>Dealer</td>\n",
       "      <td>Petrol</td>\n",
       "      <td>2017</td>\n",
       "      <td>0</td>\n",
       "      <td>9.85</td>\n",
       "    </tr>\n",
       "    <tr>\n",
       "      <th>3</th>\n",
       "      <td>Manual</td>\n",
       "      <td>Dealer</td>\n",
       "      <td>Petrol</td>\n",
       "      <td>2011</td>\n",
       "      <td>0</td>\n",
       "      <td>4.15</td>\n",
       "    </tr>\n",
       "    <tr>\n",
       "      <th>4</th>\n",
       "      <td>Manual</td>\n",
       "      <td>Dealer</td>\n",
       "      <td>Diesel</td>\n",
       "      <td>2014</td>\n",
       "      <td>0</td>\n",
       "      <td>6.87</td>\n",
       "    </tr>\n",
       "    <tr>\n",
       "      <th>...</th>\n",
       "      <td>...</td>\n",
       "      <td>...</td>\n",
       "      <td>...</td>\n",
       "      <td>...</td>\n",
       "      <td>...</td>\n",
       "      <td>...</td>\n",
       "    </tr>\n",
       "    <tr>\n",
       "      <th>296</th>\n",
       "      <td>Manual</td>\n",
       "      <td>Dealer</td>\n",
       "      <td>Diesel</td>\n",
       "      <td>2016</td>\n",
       "      <td>0</td>\n",
       "      <td>11.60</td>\n",
       "    </tr>\n",
       "    <tr>\n",
       "      <th>297</th>\n",
       "      <td>Manual</td>\n",
       "      <td>Dealer</td>\n",
       "      <td>Petrol</td>\n",
       "      <td>2015</td>\n",
       "      <td>0</td>\n",
       "      <td>5.90</td>\n",
       "    </tr>\n",
       "    <tr>\n",
       "      <th>298</th>\n",
       "      <td>Manual</td>\n",
       "      <td>Dealer</td>\n",
       "      <td>Petrol</td>\n",
       "      <td>2009</td>\n",
       "      <td>0</td>\n",
       "      <td>11.00</td>\n",
       "    </tr>\n",
       "    <tr>\n",
       "      <th>299</th>\n",
       "      <td>Manual</td>\n",
       "      <td>Dealer</td>\n",
       "      <td>Diesel</td>\n",
       "      <td>2017</td>\n",
       "      <td>0</td>\n",
       "      <td>12.50</td>\n",
       "    </tr>\n",
       "    <tr>\n",
       "      <th>300</th>\n",
       "      <td>Manual</td>\n",
       "      <td>Dealer</td>\n",
       "      <td>Petrol</td>\n",
       "      <td>2016</td>\n",
       "      <td>0</td>\n",
       "      <td>5.90</td>\n",
       "    </tr>\n",
       "  </tbody>\n",
       "</table>\n",
       "<p>301 rows × 6 columns</p>\n",
       "</div>"
      ],
      "text/plain": [
       "    Transmission Seller_Type Fuel_Type  Year  Owner  Present_Price\n",
       "0         Manual      Dealer    Petrol  2014      0           5.59\n",
       "1         Manual      Dealer    Diesel  2013      0           9.54\n",
       "2         Manual      Dealer    Petrol  2017      0           9.85\n",
       "3         Manual      Dealer    Petrol  2011      0           4.15\n",
       "4         Manual      Dealer    Diesel  2014      0           6.87\n",
       "..           ...         ...       ...   ...    ...            ...\n",
       "296       Manual      Dealer    Diesel  2016      0          11.60\n",
       "297       Manual      Dealer    Petrol  2015      0           5.90\n",
       "298       Manual      Dealer    Petrol  2009      0          11.00\n",
       "299       Manual      Dealer    Diesel  2017      0          12.50\n",
       "300       Manual      Dealer    Petrol  2016      0           5.90\n",
       "\n",
       "[301 rows x 6 columns]"
      ]
     },
     "execution_count": 257,
     "metadata": {},
     "output_type": "execute_result"
    }
   ],
   "source": [
    "X"
   ]
  },
  {
   "cell_type": "code",
   "execution_count": 258,
   "metadata": {},
   "outputs": [
    {
     "name": "stdout",
     "output_type": "stream",
     "text": [
      "0       3.35\n",
      "1       4.75\n",
      "2       7.25\n",
      "3       2.85\n",
      "4       4.60\n",
      "       ...  \n",
      "296     9.50\n",
      "297     4.00\n",
      "298     3.35\n",
      "299    11.50\n",
      "300     5.30\n",
      "Name: Selling_Price, Length: 301, dtype: float64\n"
     ]
    }
   ],
   "source": [
    "print(y)"
   ]
  },
  {
   "cell_type": "code",
   "execution_count": 259,
   "metadata": {},
   "outputs": [
    {
     "name": "stdout",
     "output_type": "stream",
     "text": [
      "    Transmission Seller_Type Fuel_Type  Year  Owner  Present_Price\n",
      "0         Manual      Dealer    Petrol  2014      0           5.59\n",
      "1         Manual      Dealer    Diesel  2013      0           9.54\n",
      "2         Manual      Dealer    Petrol  2017      0           9.85\n",
      "3         Manual      Dealer    Petrol  2011      0           4.15\n",
      "4         Manual      Dealer    Diesel  2014      0           6.87\n",
      "..           ...         ...       ...   ...    ...            ...\n",
      "296       Manual      Dealer    Diesel  2016      0          11.60\n",
      "297       Manual      Dealer    Petrol  2015      0           5.90\n",
      "298       Manual      Dealer    Petrol  2009      0          11.00\n",
      "299       Manual      Dealer    Diesel  2017      0          12.50\n",
      "300       Manual      Dealer    Petrol  2016      0           5.90\n",
      "\n",
      "[301 rows x 6 columns]\n"
     ]
    }
   ],
   "source": [
    "print(X)"
   ]
  },
  {
   "cell_type": "code",
   "execution_count": 260,
   "metadata": {},
   "outputs": [],
   "source": [
    "X=X.values"
   ]
  },
  {
   "cell_type": "code",
   "execution_count": 261,
   "metadata": {},
   "outputs": [
    {
     "name": "stdout",
     "output_type": "stream",
     "text": [
      "[['Manual' 'Dealer' 'Petrol' 2014 0 5.59]\n",
      " ['Manual' 'Dealer' 'Diesel' 2013 0 9.54]\n",
      " ['Manual' 'Dealer' 'Petrol' 2017 0 9.85]\n",
      " ...\n",
      " ['Manual' 'Dealer' 'Petrol' 2009 0 11.0]\n",
      " ['Manual' 'Dealer' 'Diesel' 2017 0 12.5]\n",
      " ['Manual' 'Dealer' 'Petrol' 2016 0 5.9]]\n"
     ]
    }
   ],
   "source": [
    "print(X)"
   ]
  },
  {
   "cell_type": "code",
   "execution_count": 262,
   "metadata": {},
   "outputs": [],
   "source": [
    "y=y.values"
   ]
  },
  {
   "cell_type": "code",
   "execution_count": 263,
   "metadata": {},
   "outputs": [
    {
     "data": {
      "text/plain": [
       "array([ 3.35,  4.75,  7.25,  2.85,  4.6 ,  9.25,  6.75,  6.5 ,  8.75,\n",
       "        7.45,  2.85,  6.85,  7.5 ,  6.1 ,  2.25,  7.75,  7.25,  7.75,\n",
       "        3.25,  2.65,  2.85,  4.9 ,  4.4 ,  2.5 ,  2.9 ,  3.  ,  4.15,\n",
       "        6.  ,  1.95,  7.45,  3.1 ,  2.35,  4.95,  6.  ,  5.5 ,  2.95,\n",
       "        4.65,  0.35,  3.  ,  2.25,  5.85,  2.55,  1.95,  5.5 ,  1.25,\n",
       "        7.5 ,  2.65,  1.05,  5.8 ,  7.75, 14.9 , 23.  , 18.  , 16.  ,\n",
       "        2.75,  3.6 ,  4.5 ,  4.75,  4.1 , 19.99,  6.95,  4.5 , 18.75,\n",
       "       23.5 , 33.  ,  4.75, 19.75,  9.25,  4.35, 14.25,  3.95,  4.5 ,\n",
       "        7.45,  2.65,  4.9 ,  3.95,  5.5 ,  1.5 ,  5.25, 14.5 , 14.73,\n",
       "        4.75, 23.  , 12.5 ,  3.49,  2.5 , 35.  ,  5.9 ,  3.45,  4.75,\n",
       "        3.8 , 11.25,  3.51, 23.  ,  4.  ,  5.85, 20.75, 17.  ,  7.05,\n",
       "        9.65,  1.75,  1.7 ,  1.65,  1.45,  1.35,  1.35,  1.35,  1.25,\n",
       "        1.2 ,  1.2 ,  1.2 ,  1.15,  1.15,  1.15,  1.15,  1.11,  1.1 ,\n",
       "        1.1 ,  1.1 ,  1.05,  1.05,  1.05,  1.05,  1.  ,  0.95,  0.9 ,\n",
       "        0.9 ,  0.75,  0.8 ,  0.78,  0.75,  0.75,  0.75,  0.72,  0.65,\n",
       "        0.65,  0.65,  0.65,  0.6 ,  0.6 ,  0.6 ,  0.6 ,  0.6 ,  0.6 ,\n",
       "        0.6 ,  0.6 ,  0.55,  0.55,  0.52,  0.51,  0.5 ,  0.5 ,  0.5 ,\n",
       "        0.5 ,  0.5 ,  0.48,  0.48,  0.48,  0.48,  0.45,  0.45,  0.45,\n",
       "        0.45,  0.45,  0.45,  0.45,  0.45,  0.42,  0.42,  0.4 ,  0.4 ,\n",
       "        0.4 ,  0.4 ,  0.4 ,  0.38,  0.38,  0.35,  0.35,  0.35,  0.31,\n",
       "        0.3 ,  0.3 ,  0.3 ,  0.27,  0.25,  0.25,  0.25,  0.25,  0.25,\n",
       "        0.2 ,  0.2 ,  0.2 ,  0.2 ,  0.2 ,  0.2 ,  0.18,  0.17,  0.16,\n",
       "        0.15,  0.12,  0.1 ,  3.25,  4.4 ,  2.95,  2.75,  5.25,  5.75,\n",
       "        5.15,  7.9 ,  4.85,  3.1 , 11.75, 11.25,  2.9 ,  5.25,  4.5 ,\n",
       "        2.9 ,  3.15,  6.45,  4.5 ,  3.5 ,  4.5 ,  6.  ,  8.25,  5.11,\n",
       "        2.7 ,  5.25,  2.55,  4.95,  3.1 ,  6.15,  9.25, 11.45,  3.9 ,\n",
       "        5.5 ,  9.1 ,  3.1 , 11.25,  4.8 ,  2.  ,  5.35,  4.75,  4.4 ,\n",
       "        6.25,  5.95,  5.2 ,  3.75,  5.95,  4.  ,  5.25, 12.9 ,  5.  ,\n",
       "        5.4 ,  7.2 ,  5.25,  3.  , 10.25,  8.5 ,  8.4 ,  3.9 ,  9.15,\n",
       "        5.5 ,  4.  ,  6.6 ,  4.  ,  6.5 ,  3.65,  8.35,  4.8 ,  6.7 ,\n",
       "        4.1 ,  3.  ,  7.5 ,  2.25,  5.3 , 10.9 ,  8.65,  9.7 ,  6.  ,\n",
       "        6.25,  5.25,  2.1 ,  8.25,  8.99,  3.5 ,  7.4 ,  5.65,  5.75,\n",
       "        8.4 , 10.11,  4.5 ,  5.4 ,  6.4 ,  3.25,  3.75,  8.55,  9.5 ,\n",
       "        4.  ,  3.35, 11.5 ,  5.3 ])"
      ]
     },
     "execution_count": 263,
     "metadata": {},
     "output_type": "execute_result"
    }
   ],
   "source": [
    "y"
   ]
  },
  {
   "cell_type": "code",
   "execution_count": 264,
   "metadata": {},
   "outputs": [],
   "source": [
    "from sklearn.compose import ColumnTransformer\n",
    "from sklearn.preprocessing import OneHotEncoder\n",
    "ct=ColumnTransformer(transformers=[('encoder',OneHotEncoder(),[0,1,2])], remainder='passthrough')\n",
    "X=np.array(ct.fit_transform(X))"
   ]
  },
  {
   "cell_type": "code",
   "execution_count": 265,
   "metadata": {},
   "outputs": [
    {
     "data": {
      "text/plain": [
       "array([0.0, 1.0, 1.0, 0.0, 0.0, 0.0, 1.0, 2014, 0, 5.59], dtype=object)"
      ]
     },
     "execution_count": 265,
     "metadata": {},
     "output_type": "execute_result"
    }
   ],
   "source": [
    "X[0]"
   ]
  },
  {
   "cell_type": "code",
   "execution_count": 266,
   "metadata": {},
   "outputs": [
    {
     "data": {
      "text/plain": [
       "array([0.0, 1.0, 1.0, 0.0, 0.0, 1.0, 0.0, 2013, 0, 9.54], dtype=object)"
      ]
     },
     "execution_count": 266,
     "metadata": {},
     "output_type": "execute_result"
    }
   ],
   "source": [
    "X[1]"
   ]
  },
  {
   "cell_type": "code",
   "execution_count": 267,
   "metadata": {},
   "outputs": [
    {
     "data": {
      "text/plain": [
       "array([[0.0, 1.0, 1.0, ..., 2014, 0, 5.59],\n",
       "       [0.0, 1.0, 1.0, ..., 2013, 0, 9.54],\n",
       "       [0.0, 1.0, 1.0, ..., 2017, 0, 9.85],\n",
       "       ...,\n",
       "       [0.0, 1.0, 1.0, ..., 2009, 0, 11.0],\n",
       "       [0.0, 1.0, 1.0, ..., 2017, 0, 12.5],\n",
       "       [0.0, 1.0, 1.0, ..., 2016, 0, 5.9]], dtype=object)"
      ]
     },
     "execution_count": 267,
     "metadata": {},
     "output_type": "execute_result"
    }
   ],
   "source": [
    "X"
   ]
  },
  {
   "cell_type": "code",
   "execution_count": 268,
   "metadata": {},
   "outputs": [],
   "source": [
    "from sklearn.model_selection import train_test_split\n",
    "X_train, X_test, y_train, y_test= train_test_split(X,y,test_size=0.2, random_state=0)"
   ]
  },
  {
   "cell_type": "code",
   "execution_count": 269,
   "metadata": {},
   "outputs": [
    {
     "data": {
      "text/plain": [
       "LinearRegression(copy_X=True, fit_intercept=True, n_jobs=None, normalize=False)"
      ]
     },
     "execution_count": 269,
     "metadata": {},
     "output_type": "execute_result"
    }
   ],
   "source": [
    "from sklearn.linear_model import LinearRegression\n",
    "regressor = LinearRegression()\n",
    "regressor.fit(X_train,y_train)"
   ]
  },
  {
   "cell_type": "code",
   "execution_count": 270,
   "metadata": {},
   "outputs": [
    {
     "name": "stdout",
     "output_type": "stream",
     "text": [
      "[[ 7.65  8.25]\n",
      " [-0.64  0.5 ]\n",
      " [ 4.26  5.25]\n",
      " [ 9.02  9.5 ]\n",
      " [14.23 18.  ]\n",
      " [ 4.81  5.5 ]\n",
      " [ 3.44  3.75]\n",
      " [ 1.38  0.45]\n",
      " [ 5.17  4.5 ]\n",
      " [ 4.55  4.5 ]\n",
      " [ 2.08  2.7 ]\n",
      " [ 1.55  0.72]\n",
      " [ 5.12  5.25]\n",
      " [ 7.37  7.5 ]\n",
      " [ 8.67  7.75]\n",
      " [13.85 19.75]\n",
      " [ 7.19  7.4 ]\n",
      " [ 4.29  4.75]\n",
      " [-0.55  0.35]\n",
      " [ 2.35  1.7 ]\n",
      " [ 4.83  4.4 ]\n",
      " [ 3.73  5.25]\n",
      " [ 6.28  5.11]\n",
      " [ 8.06 11.25]\n",
      " [-1.96  0.2 ]\n",
      " [ 1.93  0.78]\n",
      " [-0.66  0.38]\n",
      " [ 0.8   0.65]\n",
      " [-0.15  0.5 ]\n",
      " [ 6.97  3.6 ]\n",
      " [ 3.44  3.25]\n",
      " [ 7.44  7.2 ]\n",
      " [ 0.71  0.6 ]\n",
      " [ 7.87  8.75]\n",
      " [ 3.52  3.  ]\n",
      " [ 1.78  1.15]\n",
      " [ 5.54  6.6 ]\n",
      " [ 6.99  4.75]\n",
      " [-2.92  0.25]\n",
      " [ 9.18  8.25]\n",
      " [ 9.12  9.25]\n",
      " [19.84 19.99]\n",
      " [ 4.26  5.5 ]\n",
      " [ 3.91  4.75]\n",
      " [ 6.65  5.5 ]\n",
      " [ 9.87 12.9 ]\n",
      " [ 0.11  0.3 ]\n",
      " [ 1.64  1.05]\n",
      " [ 5.2   5.25]\n",
      " [ 7.32  6.5 ]\n",
      " [ 7.84  7.5 ]\n",
      " [ 4.15  2.9 ]\n",
      " [ 4.98  4.8 ]\n",
      " [20.26 23.5 ]\n",
      " [ 1.78  1.2 ]\n",
      " [ 1.34  1.1 ]\n",
      " [ 0.2   0.65]\n",
      " [ 2.01  2.55]\n",
      " [ 3.48  4.15]\n",
      " [ 0.8   1.35]\n",
      " [ 3.39  3.51]]\n"
     ]
    }
   ],
   "source": [
    "y_pred=regressor.predict(X_test)\n",
    "np.set_printoptions(precision=2)\n",
    "print(np.concatenate((y_pred.reshape(len(y_pred),1),y_test.reshape(len(y_test),1)),1))"
   ]
  },
  {
   "cell_type": "code",
   "execution_count": 271,
   "metadata": {},
   "outputs": [
    {
     "data": {
      "text/plain": [
       "0.9114623972338567"
      ]
     },
     "execution_count": 271,
     "metadata": {},
     "output_type": "execute_result"
    }
   ],
   "source": [
    "from sklearn.metrics import r2_score\n",
    "r2_score(y_test,y_pred)"
   ]
  },
  {
   "cell_type": "code",
   "execution_count": 272,
   "metadata": {},
   "outputs": [
    {
     "name": "stdout",
     "output_type": "stream",
     "text": [
      "0.893754876680628\n"
     ]
    }
   ],
   "source": [
    "# Adjusted R2 score\n",
    "from sklearn.metrics import r2_score   \n",
    "r2_score(y_test, y_pred)  \n",
    "print(1-(1-r2_score(y_test, y_pred))*((len(X_test)-1)/(len(X_test)-len(X_test[0])-1)))"
   ]
  },
  {
   "cell_type": "code",
   "execution_count": 273,
   "metadata": {},
   "outputs": [],
   "source": [
    "# Try noramalizing and making polynomial graphs"
   ]
  },
  {
   "cell_type": "code",
   "execution_count": 274,
   "metadata": {},
   "outputs": [],
   "source": [
    "# Normalizing"
   ]
  },
  {
   "cell_type": "code",
   "execution_count": 284,
   "metadata": {},
   "outputs": [
    {
     "ename": "ValueError",
     "evalue": "Expected 2D array, got 1D array instead:\narray=[0. 0. 0. 0. 0. 0. 0. 0. 0. 0. 0. 0. 0. 0. 0. 0. 0. 0. 0. 0. 0. 0. 0. 0.\n 0. 0. 0. 0. 0. 0. 0. 0. 0. 0. 0. 0. 0. 0. 0. 0. 0. 0. 0. 0. 0. 0. 0. 0.\n 0. 0. 0. 0. 0. 0. 0. 0. 0. 0. 0. 0. 0. 0. 0. 0. 0. 0. 0. 0. 0. 0. 0. 0.\n 0. 0. 0. 0. 0. 0. 0. 0. 0. 0. 0. 0. 0. 0. 0. 0. 0. 0. 0. 0. 0. 0. 0. 0.\n 0. 0. 0. 0. 0. 0. 0. 0. 0. 0. 0. 0. 0. 0. 0. 0. 0. 0. 0. 0. 0. 0. 0. 0.\n 0. 0. 0. 0. 0. 0. 0. 0. 0. 0. 0. 0. 0. 0. 0. 0. 0. 0. 0. 0. 0. 0. 0. 0.\n 0. 0. 0. 0. 0. 0. 0. 0. 0. 0. 0. 0. 0. 0. 0. 0. 0. 0. 0. 0. 0. 0. 0. 0.\n 0. 0. 0. 0. 0. 0. 0. 0. 0. 0. 0. 0. 0. 0. 0. 0. 0. 0. 0. 0. 0. 0. 0. 0.\n 0. 0. 0. 0. 0. 0. 0. 0. 0. 0. 0. 0. 0. 0. 0. 0. 0. 0. 0. 0. 0. 0. 0. 0.\n 0. 0. 0. 0. 0. 0. 0. 0. 0. 0. 0. 0. 0. 0. 0. 0. 0. 0. 0. 0. 0. 0. 0. 0.].\nReshape your data either using array.reshape(-1, 1) if your data has a single feature or array.reshape(1, -1) if it contains a single sample.",
     "output_type": "error",
     "traceback": [
      "\u001b[1;31m---------------------------------------------------------------------------\u001b[0m",
      "\u001b[1;31mValueError\u001b[0m                                Traceback (most recent call last)",
      "\u001b[1;32m<ipython-input-284-7b19fa1f6087>\u001b[0m in \u001b[0;36m<module>\u001b[1;34m\u001b[0m\n\u001b[0;32m      1\u001b[0m \u001b[1;32mfrom\u001b[0m \u001b[0msklearn\u001b[0m\u001b[1;33m.\u001b[0m\u001b[0mpreprocessing\u001b[0m \u001b[1;32mimport\u001b[0m \u001b[0mStandardScaler\u001b[0m\u001b[1;33m\u001b[0m\u001b[1;33m\u001b[0m\u001b[0m\n\u001b[0;32m      2\u001b[0m \u001b[0msc\u001b[0m\u001b[1;33m=\u001b[0m\u001b[0mStandardScaler\u001b[0m\u001b[1;33m(\u001b[0m\u001b[1;33m)\u001b[0m\u001b[1;33m\u001b[0m\u001b[1;33m\u001b[0m\u001b[0m\n\u001b[1;32m----> 3\u001b[1;33m \u001b[0mX_train\u001b[0m\u001b[1;33m[\u001b[0m\u001b[1;33m:\u001b[0m\u001b[1;33m,\u001b[0m\u001b[1;33m-\u001b[0m\u001b[1;36m1\u001b[0m\u001b[1;33m]\u001b[0m\u001b[1;33m=\u001b[0m\u001b[0msc\u001b[0m\u001b[1;33m.\u001b[0m\u001b[0mfit_transform\u001b[0m\u001b[1;33m(\u001b[0m\u001b[0mX_train\u001b[0m\u001b[1;33m[\u001b[0m\u001b[1;33m:\u001b[0m\u001b[1;33m,\u001b[0m\u001b[1;36m9\u001b[0m\u001b[1;33m]\u001b[0m\u001b[1;33m)\u001b[0m\u001b[1;33m\u001b[0m\u001b[1;33m\u001b[0m\u001b[0m\n\u001b[0m\u001b[0;32m      4\u001b[0m \u001b[0mX_test\u001b[0m\u001b[1;33m[\u001b[0m\u001b[1;33m:\u001b[0m\u001b[1;33m,\u001b[0m\u001b[1;33m-\u001b[0m\u001b[1;36m1\u001b[0m\u001b[1;33m]\u001b[0m\u001b[1;33m=\u001b[0m\u001b[0msc\u001b[0m\u001b[1;33m.\u001b[0m\u001b[0mtransform\u001b[0m\u001b[1;33m(\u001b[0m\u001b[0mX_test\u001b[0m\u001b[1;33m[\u001b[0m\u001b[1;33m:\u001b[0m\u001b[1;33m,\u001b[0m\u001b[1;36m9\u001b[0m\u001b[1;33m]\u001b[0m\u001b[1;33m)\u001b[0m\u001b[1;33m\u001b[0m\u001b[1;33m\u001b[0m\u001b[0m\n",
      "\u001b[1;32mC:\\ProgramData\\Anaconda3\\lib\\site-packages\\sklearn\\base.py\u001b[0m in \u001b[0;36mfit_transform\u001b[1;34m(self, X, y, **fit_params)\u001b[0m\n\u001b[0;32m    569\u001b[0m         \u001b[1;32mif\u001b[0m \u001b[0my\u001b[0m \u001b[1;32mis\u001b[0m \u001b[1;32mNone\u001b[0m\u001b[1;33m:\u001b[0m\u001b[1;33m\u001b[0m\u001b[1;33m\u001b[0m\u001b[0m\n\u001b[0;32m    570\u001b[0m             \u001b[1;31m# fit method of arity 1 (unsupervised transformation)\u001b[0m\u001b[1;33m\u001b[0m\u001b[1;33m\u001b[0m\u001b[1;33m\u001b[0m\u001b[0m\n\u001b[1;32m--> 571\u001b[1;33m             \u001b[1;32mreturn\u001b[0m \u001b[0mself\u001b[0m\u001b[1;33m.\u001b[0m\u001b[0mfit\u001b[0m\u001b[1;33m(\u001b[0m\u001b[0mX\u001b[0m\u001b[1;33m,\u001b[0m \u001b[1;33m**\u001b[0m\u001b[0mfit_params\u001b[0m\u001b[1;33m)\u001b[0m\u001b[1;33m.\u001b[0m\u001b[0mtransform\u001b[0m\u001b[1;33m(\u001b[0m\u001b[0mX\u001b[0m\u001b[1;33m)\u001b[0m\u001b[1;33m\u001b[0m\u001b[1;33m\u001b[0m\u001b[0m\n\u001b[0m\u001b[0;32m    572\u001b[0m         \u001b[1;32melse\u001b[0m\u001b[1;33m:\u001b[0m\u001b[1;33m\u001b[0m\u001b[1;33m\u001b[0m\u001b[0m\n\u001b[0;32m    573\u001b[0m             \u001b[1;31m# fit method of arity 2 (supervised transformation)\u001b[0m\u001b[1;33m\u001b[0m\u001b[1;33m\u001b[0m\u001b[1;33m\u001b[0m\u001b[0m\n",
      "\u001b[1;32mC:\\ProgramData\\Anaconda3\\lib\\site-packages\\sklearn\\preprocessing\\_data.py\u001b[0m in \u001b[0;36mfit\u001b[1;34m(self, X, y)\u001b[0m\n\u001b[0;32m    667\u001b[0m         \u001b[1;31m# Reset internal state before fitting\u001b[0m\u001b[1;33m\u001b[0m\u001b[1;33m\u001b[0m\u001b[1;33m\u001b[0m\u001b[0m\n\u001b[0;32m    668\u001b[0m         \u001b[0mself\u001b[0m\u001b[1;33m.\u001b[0m\u001b[0m_reset\u001b[0m\u001b[1;33m(\u001b[0m\u001b[1;33m)\u001b[0m\u001b[1;33m\u001b[0m\u001b[1;33m\u001b[0m\u001b[0m\n\u001b[1;32m--> 669\u001b[1;33m         \u001b[1;32mreturn\u001b[0m \u001b[0mself\u001b[0m\u001b[1;33m.\u001b[0m\u001b[0mpartial_fit\u001b[0m\u001b[1;33m(\u001b[0m\u001b[0mX\u001b[0m\u001b[1;33m,\u001b[0m \u001b[0my\u001b[0m\u001b[1;33m)\u001b[0m\u001b[1;33m\u001b[0m\u001b[1;33m\u001b[0m\u001b[0m\n\u001b[0m\u001b[0;32m    670\u001b[0m \u001b[1;33m\u001b[0m\u001b[0m\n\u001b[0;32m    671\u001b[0m     \u001b[1;32mdef\u001b[0m \u001b[0mpartial_fit\u001b[0m\u001b[1;33m(\u001b[0m\u001b[0mself\u001b[0m\u001b[1;33m,\u001b[0m \u001b[0mX\u001b[0m\u001b[1;33m,\u001b[0m \u001b[0my\u001b[0m\u001b[1;33m=\u001b[0m\u001b[1;32mNone\u001b[0m\u001b[1;33m)\u001b[0m\u001b[1;33m:\u001b[0m\u001b[1;33m\u001b[0m\u001b[1;33m\u001b[0m\u001b[0m\n",
      "\u001b[1;32mC:\\ProgramData\\Anaconda3\\lib\\site-packages\\sklearn\\preprocessing\\_data.py\u001b[0m in \u001b[0;36mpartial_fit\u001b[1;34m(self, X, y)\u001b[0m\n\u001b[0;32m    698\u001b[0m         X = check_array(X, accept_sparse=('csr', 'csc'),\n\u001b[0;32m    699\u001b[0m                         \u001b[0mestimator\u001b[0m\u001b[1;33m=\u001b[0m\u001b[0mself\u001b[0m\u001b[1;33m,\u001b[0m \u001b[0mdtype\u001b[0m\u001b[1;33m=\u001b[0m\u001b[0mFLOAT_DTYPES\u001b[0m\u001b[1;33m,\u001b[0m\u001b[1;33m\u001b[0m\u001b[1;33m\u001b[0m\u001b[0m\n\u001b[1;32m--> 700\u001b[1;33m                         force_all_finite='allow-nan')\n\u001b[0m\u001b[0;32m    701\u001b[0m \u001b[1;33m\u001b[0m\u001b[0m\n\u001b[0;32m    702\u001b[0m         \u001b[1;31m# Even in the case of `with_mean=False`, we update the mean anyway\u001b[0m\u001b[1;33m\u001b[0m\u001b[1;33m\u001b[0m\u001b[1;33m\u001b[0m\u001b[0m\n",
      "\u001b[1;32mC:\\ProgramData\\Anaconda3\\lib\\site-packages\\sklearn\\utils\\validation.py\u001b[0m in \u001b[0;36mcheck_array\u001b[1;34m(array, accept_sparse, accept_large_sparse, dtype, order, copy, force_all_finite, ensure_2d, allow_nd, ensure_min_samples, ensure_min_features, warn_on_dtype, estimator)\u001b[0m\n\u001b[0;32m    554\u001b[0m                     \u001b[1;34m\"Reshape your data either using array.reshape(-1, 1) if \"\u001b[0m\u001b[1;33m\u001b[0m\u001b[1;33m\u001b[0m\u001b[0m\n\u001b[0;32m    555\u001b[0m                     \u001b[1;34m\"your data has a single feature or array.reshape(1, -1) \"\u001b[0m\u001b[1;33m\u001b[0m\u001b[1;33m\u001b[0m\u001b[0m\n\u001b[1;32m--> 556\u001b[1;33m                     \"if it contains a single sample.\".format(array))\n\u001b[0m\u001b[0;32m    557\u001b[0m \u001b[1;33m\u001b[0m\u001b[0m\n\u001b[0;32m    558\u001b[0m         \u001b[1;31m# in the future np.flexible dtypes will be handled like object dtypes\u001b[0m\u001b[1;33m\u001b[0m\u001b[1;33m\u001b[0m\u001b[1;33m\u001b[0m\u001b[0m\n",
      "\u001b[1;31mValueError\u001b[0m: Expected 2D array, got 1D array instead:\narray=[0. 0. 0. 0. 0. 0. 0. 0. 0. 0. 0. 0. 0. 0. 0. 0. 0. 0. 0. 0. 0. 0. 0. 0.\n 0. 0. 0. 0. 0. 0. 0. 0. 0. 0. 0. 0. 0. 0. 0. 0. 0. 0. 0. 0. 0. 0. 0. 0.\n 0. 0. 0. 0. 0. 0. 0. 0. 0. 0. 0. 0. 0. 0. 0. 0. 0. 0. 0. 0. 0. 0. 0. 0.\n 0. 0. 0. 0. 0. 0. 0. 0. 0. 0. 0. 0. 0. 0. 0. 0. 0. 0. 0. 0. 0. 0. 0. 0.\n 0. 0. 0. 0. 0. 0. 0. 0. 0. 0. 0. 0. 0. 0. 0. 0. 0. 0. 0. 0. 0. 0. 0. 0.\n 0. 0. 0. 0. 0. 0. 0. 0. 0. 0. 0. 0. 0. 0. 0. 0. 0. 0. 0. 0. 0. 0. 0. 0.\n 0. 0. 0. 0. 0. 0. 0. 0. 0. 0. 0. 0. 0. 0. 0. 0. 0. 0. 0. 0. 0. 0. 0. 0.\n 0. 0. 0. 0. 0. 0. 0. 0. 0. 0. 0. 0. 0. 0. 0. 0. 0. 0. 0. 0. 0. 0. 0. 0.\n 0. 0. 0. 0. 0. 0. 0. 0. 0. 0. 0. 0. 0. 0. 0. 0. 0. 0. 0. 0. 0. 0. 0. 0.\n 0. 0. 0. 0. 0. 0. 0. 0. 0. 0. 0. 0. 0. 0. 0. 0. 0. 0. 0. 0. 0. 0. 0. 0.].\nReshape your data either using array.reshape(-1, 1) if your data has a single feature or array.reshape(1, -1) if it contains a single sample."
     ]
    }
   ],
   "source": [
    "# from sklearn.preprocessing import StandardScaler\n",
    "# sc=StandardScaler()\n",
    "# X_train[:,-1]=sc.fit_transform(X_train[:,9])\n",
    "# X_test[:,-1]=sc.transform(X_test[:,9])\n"
   ]
  },
  {
   "cell_type": "code",
   "execution_count": 283,
   "metadata": {},
   "outputs": [
    {
     "name": "stdout",
     "output_type": "stream",
     "text": [
      "[[0.0 1.0 1.0 ... 2014 0 0.0]\n",
      " [0.0 1.0 1.0 ... 2012 0 0.0]\n",
      " [1.0 0.0 1.0 ... 2017 0 0.0]\n",
      " ...\n",
      " [0.0 1.0 0.0 ... 2015 0 0.0]\n",
      " [0.0 1.0 1.0 ... 2006 0 0.0]\n",
      " [0.0 1.0 0.0 ... 2014 0 0.0]]\n"
     ]
    }
   ],
   "source": [
    "print(X_train)"
   ]
  },
  {
   "cell_type": "code",
   "execution_count": 281,
   "metadata": {},
   "outputs": [
    {
     "name": "stdout",
     "output_type": "stream",
     "text": [
      "[[0.0 1.0 1.0 0.0 0.0 1.0 0.0 2015 0 9.4]\n",
      " [0.0 1.0 0.0 1.0 0.0 0.0 1.0 2011 0 0.826]\n",
      " [0.0 1.0 1.0 0.0 0.0 0.0 1.0 2015 0 5.7]\n",
      " [0.0 1.0 1.0 0.0 0.0 1.0 0.0 2016 0 11.6]\n",
      " [1.0 0.0 1.0 0.0 0.0 1.0 0.0 2017 0 19.77]\n",
      " [0.0 1.0 1.0 0.0 0.0 0.0 1.0 2016 0 5.97]\n",
      " [0.0 1.0 1.0 0.0 0.0 0.0 1.0 2012 0 6.79]\n",
      " [0.0 1.0 0.0 1.0 0.0 0.0 1.0 2016 0 0.55]\n",
      " [1.0 0.0 1.0 0.0 0.0 0.0 1.0 2013 0 6.79]\n",
      " [0.0 1.0 1.0 0.0 0.0 0.0 1.0 2012 0 9.4]\n",
      " [0.0 1.0 1.0 0.0 0.0 0.0 1.0 2011 0 4.6]\n",
      " [0.0 1.0 0.0 1.0 0.0 0.0 1.0 2016 0 0.95]\n",
      " [0.0 1.0 1.0 0.0 0.0 0.0 1.0 2017 0 5.7]\n",
      " [1.0 0.0 1.0 0.0 0.0 0.0 1.0 2015 0 9.94]\n",
      " [0.0 1.0 1.0 0.0 0.0 1.0 0.0 2016 0 10.79]\n",
      " [1.0 0.0 1.0 0.0 0.0 0.0 1.0 2017 0 23.15]\n",
      " [1.0 0.0 1.0 0.0 0.0 0.0 1.0 2016 0 8.5]\n",
      " [0.0 1.0 1.0 0.0 0.0 0.0 1.0 2014 0 6.76]\n",
      " [0.0 1.0 0.0 1.0 0.0 0.0 1.0 2011 0 1.05]\n",
      " [0.0 1.0 0.0 1.0 0.0 0.0 1.0 2017 0 1.82]\n",
      " [1.0 0.0 1.0 0.0 0.0 0.0 1.0 2011 0 8.01]\n",
      " [0.0 1.0 1.0 0.0 0.0 0.0 1.0 2016 1 5.7]\n",
      " [1.0 0.0 1.0 0.0 0.0 0.0 1.0 2013 0 9.4]\n",
      " [0.0 1.0 1.0 0.0 0.0 0.0 1.0 2016 0 13.6]\n",
      " [0.0 1.0 0.0 1.0 0.0 0.0 1.0 2008 0 0.75]\n",
      " [0.0 1.0 0.0 1.0 0.0 0.0 1.0 2017 0 0.84]\n",
      " [0.0 1.0 0.0 1.0 0.0 0.0 1.0 2011 0 0.787]\n",
      " [0.0 1.0 0.0 1.0 0.0 0.0 1.0 2014 0 1.2]\n",
      " [0.0 1.0 0.0 1.0 0.0 0.0 1.0 2012 0 0.99]\n",
      " [1.0 0.0 1.0 0.0 0.0 0.0 1.0 2009 0 15.04]\n",
      " [0.0 1.0 1.0 0.0 0.0 1.0 0.0 2010 1 6.79]\n",
      " [0.0 1.0 1.0 0.0 0.0 1.0 0.0 2014 0 9.9]\n",
      " [0.0 1.0 0.0 1.0 0.0 0.0 1.0 2014 0 0.99]\n",
      " [0.0 1.0 1.0 0.0 0.0 1.0 0.0 2016 0 8.89]\n",
      " [0.0 1.0 1.0 0.0 0.0 0.0 1.0 2009 0 10.0]\n",
      " [0.0 1.0 0.0 1.0 0.0 0.0 1.0 2016 0 1.5]\n",
      " [0.0 1.0 1.0 0.0 0.0 0.0 1.0 2016 0 7.7]\n",
      " [0.0 1.0 1.0 0.0 0.0 1.0 0.0 2015 0 7.85]\n",
      " [0.0 1.0 0.0 1.0 0.0 0.0 1.0 2008 1 0.75]\n",
      " [0.0 1.0 1.0 0.0 0.0 1.0 0.0 2014 0 14.0]\n",
      " [0.0 1.0 1.0 0.0 0.0 1.0 0.0 2018 0 9.83]\n",
      " [1.0 0.0 1.0 0.0 0.0 1.0 0.0 2014 0 35.96]\n",
      " [0.0 1.0 1.0 0.0 0.0 0.0 1.0 2015 0 5.7]\n",
      " [0.0 1.0 1.0 0.0 0.0 0.0 1.0 2015 1 7.13]\n",
      " [0.0 1.0 1.0 0.0 0.0 1.0 0.0 2014 0 8.06]\n",
      " [0.0 1.0 1.0 0.0 0.0 1.0 0.0 2016 0 13.6]\n",
      " [0.0 1.0 0.0 1.0 0.0 0.0 1.0 2013 0 0.58]\n",
      " [0.0 1.0 0.0 1.0 0.0 0.0 1.0 2016 0 1.17]\n",
      " [0.0 1.0 1.0 0.0 0.0 0.0 1.0 2013 0 9.9]\n",
      " [0.0 1.0 1.0 0.0 0.0 1.0 0.0 2015 0 8.61]\n",
      " [1.0 0.0 1.0 0.0 0.0 0.0 1.0 2014 0 12.04]\n",
      " [0.0 1.0 1.0 0.0 0.0 0.0 1.0 2016 0 4.43]\n",
      " [0.0 1.0 1.0 0.0 0.0 0.0 1.0 2013 0 9.4]\n",
      " [1.0 0.0 1.0 0.0 0.0 1.0 0.0 2015 0 35.96]\n",
      " [0.0 1.0 0.0 1.0 0.0 0.0 1.0 2016 0 1.5]\n",
      " [0.0 1.0 0.0 1.0 0.0 0.0 1.0 2015 0 1.47]\n",
      " [0.0 1.0 0.0 1.0 0.0 0.0 1.0 2013 0 0.787]\n",
      " [0.0 1.0 1.0 0.0 0.0 0.0 1.0 2011 0 4.43]\n",
      " [0.0 1.0 1.0 0.0 0.0 0.0 1.0 2013 0 5.87]\n",
      " [0.0 1.0 0.0 1.0 0.0 0.0 1.0 2014 1 3.45]\n",
      " [0.0 1.0 1.0 0.0 0.0 0.0 1.0 2005 0 13.7]]\n"
     ]
    }
   ],
   "source": [
    "print(X_test)"
   ]
  },
  {
   "cell_type": "code",
   "execution_count": 285,
   "metadata": {},
   "outputs": [],
   "source": [
    "# Polynomial Regression"
   ]
  },
  {
   "cell_type": "code",
   "execution_count": 286,
   "metadata": {},
   "outputs": [
    {
     "data": {
      "text/html": [
       "<div>\n",
       "<style scoped>\n",
       "    .dataframe tbody tr th:only-of-type {\n",
       "        vertical-align: middle;\n",
       "    }\n",
       "\n",
       "    .dataframe tbody tr th {\n",
       "        vertical-align: top;\n",
       "    }\n",
       "\n",
       "    .dataframe thead th {\n",
       "        text-align: right;\n",
       "    }\n",
       "</style>\n",
       "<table border=\"1\" class=\"dataframe\">\n",
       "  <thead>\n",
       "    <tr style=\"text-align: right;\">\n",
       "      <th></th>\n",
       "      <th>Car_Name</th>\n",
       "      <th>Year</th>\n",
       "      <th>Selling_Price</th>\n",
       "      <th>Present_Price</th>\n",
       "      <th>Kms_Driven</th>\n",
       "      <th>Fuel_Type</th>\n",
       "      <th>Seller_Type</th>\n",
       "      <th>Transmission</th>\n",
       "      <th>Owner</th>\n",
       "    </tr>\n",
       "  </thead>\n",
       "  <tbody>\n",
       "    <tr>\n",
       "      <th>0</th>\n",
       "      <td>ritz</td>\n",
       "      <td>2014</td>\n",
       "      <td>3.35</td>\n",
       "      <td>5.59</td>\n",
       "      <td>27000</td>\n",
       "      <td>Petrol</td>\n",
       "      <td>Dealer</td>\n",
       "      <td>Manual</td>\n",
       "      <td>0</td>\n",
       "    </tr>\n",
       "    <tr>\n",
       "      <th>1</th>\n",
       "      <td>sx4</td>\n",
       "      <td>2013</td>\n",
       "      <td>4.75</td>\n",
       "      <td>9.54</td>\n",
       "      <td>43000</td>\n",
       "      <td>Diesel</td>\n",
       "      <td>Dealer</td>\n",
       "      <td>Manual</td>\n",
       "      <td>0</td>\n",
       "    </tr>\n",
       "    <tr>\n",
       "      <th>2</th>\n",
       "      <td>ciaz</td>\n",
       "      <td>2017</td>\n",
       "      <td>7.25</td>\n",
       "      <td>9.85</td>\n",
       "      <td>6900</td>\n",
       "      <td>Petrol</td>\n",
       "      <td>Dealer</td>\n",
       "      <td>Manual</td>\n",
       "      <td>0</td>\n",
       "    </tr>\n",
       "    <tr>\n",
       "      <th>3</th>\n",
       "      <td>wagon r</td>\n",
       "      <td>2011</td>\n",
       "      <td>2.85</td>\n",
       "      <td>4.15</td>\n",
       "      <td>5200</td>\n",
       "      <td>Petrol</td>\n",
       "      <td>Dealer</td>\n",
       "      <td>Manual</td>\n",
       "      <td>0</td>\n",
       "    </tr>\n",
       "    <tr>\n",
       "      <th>4</th>\n",
       "      <td>swift</td>\n",
       "      <td>2014</td>\n",
       "      <td>4.60</td>\n",
       "      <td>6.87</td>\n",
       "      <td>42450</td>\n",
       "      <td>Diesel</td>\n",
       "      <td>Dealer</td>\n",
       "      <td>Manual</td>\n",
       "      <td>0</td>\n",
       "    </tr>\n",
       "  </tbody>\n",
       "</table>\n",
       "</div>"
      ],
      "text/plain": [
       "  Car_Name  Year  Selling_Price  Present_Price  Kms_Driven Fuel_Type  \\\n",
       "0     ritz  2014           3.35           5.59       27000    Petrol   \n",
       "1      sx4  2013           4.75           9.54       43000    Diesel   \n",
       "2     ciaz  2017           7.25           9.85        6900    Petrol   \n",
       "3  wagon r  2011           2.85           4.15        5200    Petrol   \n",
       "4    swift  2014           4.60           6.87       42450    Diesel   \n",
       "\n",
       "  Seller_Type Transmission  Owner  \n",
       "0      Dealer       Manual      0  \n",
       "1      Dealer       Manual      0  \n",
       "2      Dealer       Manual      0  \n",
       "3      Dealer       Manual      0  \n",
       "4      Dealer       Manual      0  "
      ]
     },
     "execution_count": 286,
     "metadata": {},
     "output_type": "execute_result"
    }
   ],
   "source": [
    "df.head()"
   ]
  },
  {
   "cell_type": "code",
   "execution_count": 329,
   "metadata": {},
   "outputs": [
    {
     "data": {
      "image/png": "[encoded data removed]",
      "text/plain": [
       "<Figure size 432x288 with 1 Axes>"
      ]
     },
     "metadata": {},
     "output_type": "display_data"
    }
   ],
   "source": [
    "from sklearn.preprocessing import PolynomialFeatures\n",
    "poly_reg = PolynomialFeatures(degree = 2)\n",
    "X1=df['Present_Price'].values\n",
    "y1=df['Selling_Price'].values\n",
    "X1=X1.reshape(-1,1)\n",
    "y1=y1.reshape(-1,1)\n",
    "\n",
    "X1_train, X1_test, y1_train, y1_test =train_test_split(X1,y1,test_size=0.2,random_state=0)\n",
    "\n",
    "X_poly = poly_reg.fit_transform(X1_train)\n",
    "lin_reg_2 = LinearRegression()\n",
    "lin_reg_2.fit(X_poly, y1_train)\n",
    "\n",
    "\n",
    "\n",
    "plt.scatter(X1, y1, color = 'red')\n",
    "plt.plot(X1, lin_reg_2.predict(poly_reg.fit_transform(X1)), color = 'blue')\n",
    "plt.title('Present_Price vs Selling_Price (Polynomial Regression)')\n",
    "plt.xlabel('Present_Price')\n",
    "plt.ylabel('Selling_Price')\n",
    "plt.show()"
   ]
  },
  {
   "cell_type": "code",
   "execution_count": 330,
   "metadata": {},
   "outputs": [
    {
     "data": {
      "text/plain": [
       "<matplotlib.axes._subplots.AxesSubplot at 0x21a31a9b688>"
      ]
     },
     "execution_count": 330,
     "metadata": {},
     "output_type": "execute_result"
    },
    {
     "data": {
      "image/png": "[encoded data removed]",
      "text/plain": [
       "<Figure size 432x288 with 1 Axes>"
      ]
     },
     "metadata": {},
     "output_type": "display_data"
    }
   ],
   "source": [
    "sns.scatterplot(df['Present_Price'],df['Selling_Price'])"
   ]
  },
  {
   "cell_type": "code",
   "execution_count": 331,
   "metadata": {},
   "outputs": [],
   "source": [
    "# Check Accuracy"
   ]
  },
  {
   "cell_type": "code",
   "execution_count": 332,
   "metadata": {},
   "outputs": [
    {
     "name": "stdout",
     "output_type": "stream",
     "text": [
      "0.7975323462705836\n"
     ]
    }
   ],
   "source": [
    "# Adjusted R2 score\n",
    "# from sklearn.metrics import r2_score   \n",
    "# r2_score(y1_test, lin_reg_2.predict(poly_reg.fit_transform(X1_test)))\n",
    "print(1-(1-r2_score(y_test, lin_reg_2.predict(poly_reg.fit_transform(X1_test))))*((len(X_test)-1)/(len(X_test)-len(X_test[0])-1)))\n"
   ]
  },
  {
   "cell_type": "code",
   "execution_count": 333,
   "metadata": {},
   "outputs": [],
   "source": [
    "# for Year"
   ]
  },
  {
   "cell_type": "code",
   "execution_count": 389,
   "metadata": {},
   "outputs": [
    {
     "data": {
      "image/png": "[encoded data removed]",
      "text/plain": [
       "<Figure size 432x288 with 1 Axes>"
      ]
     },
     "metadata": {},
     "output_type": "display_data"
    },
    {
     "name": "stdout",
     "output_type": "stream",
     "text": [
      "[[ 5.02  8.25]\n",
      " [ 3.57  0.5 ]\n",
      " [ 5.02  5.25]\n",
      " [ 5.4   9.5 ]\n",
      " [ 5.79 18.  ]\n",
      " [ 5.4   5.5 ]\n",
      " [ 3.93  3.75]\n",
      " [ 5.4   0.45]\n",
      " [ 4.29  4.5 ]\n",
      " [ 3.93  4.5 ]\n",
      " [ 3.57  2.7 ]\n",
      " [ 5.4   0.72]\n",
      " [ 5.79  5.25]\n",
      " [ 5.02  7.5 ]\n",
      " [ 5.4   7.75]\n",
      " [ 5.79 19.75]\n",
      " [ 5.4   7.4 ]\n",
      " [ 4.65  4.75]\n",
      " [ 3.57  0.35]\n",
      " [ 5.79  1.7 ]\n",
      " [ 3.57  4.4 ]\n",
      " [ 5.4   5.25]\n",
      " [ 4.29  5.11]\n",
      " [ 5.4  11.25]\n",
      " [ 2.55  0.2 ]\n",
      " [ 5.79  0.78]\n",
      " [ 3.57  0.38]\n",
      " [ 4.65  0.65]\n",
      " [ 3.93  0.5 ]\n",
      " [ 2.88  3.6 ]\n",
      " [ 3.23  3.25]\n",
      " [ 4.65  7.2 ]\n",
      " [ 4.65  0.6 ]\n",
      " [ 5.4   8.75]\n",
      " [ 2.88  3.  ]\n",
      " [ 5.4   1.15]\n",
      " [ 5.4   6.6 ]\n",
      " [ 5.02  4.75]\n",
      " [ 2.55  0.25]\n",
      " [ 4.65  8.25]\n",
      " [ 6.18  9.25]\n",
      " [ 4.65 19.99]\n",
      " [ 5.02  5.5 ]\n",
      " [ 5.02  4.75]\n",
      " [ 4.65  5.5 ]\n",
      " [ 5.4  12.9 ]\n",
      " [ 4.29  0.3 ]\n",
      " [ 5.4   1.05]\n",
      " [ 4.29  5.25]\n",
      " [ 5.02  6.5 ]\n",
      " [ 4.65  7.5 ]\n",
      " [ 5.4   2.9 ]\n",
      " [ 4.29  4.8 ]\n",
      " [ 5.02 23.5 ]\n",
      " [ 5.4   1.2 ]\n",
      " [ 5.02  1.1 ]\n",
      " [ 4.29  0.65]\n",
      " [ 3.57  2.55]\n",
      " [ 4.29  4.15]\n",
      " [ 4.65  1.35]\n",
      " [ 1.59  3.51]]\n"
     ]
    }
   ],
   "source": [
    "from sklearn.preprocessing import PolynomialFeatures\n",
    "poly_reg = PolynomialFeatures(degree = 2)\n",
    "X1=df['Year'].values\n",
    "y1=df['Selling_Price'].values\n",
    "X1=X1.reshape(-1,1)\n",
    "y1=y1.reshape(-1,1)\n",
    "\n",
    "X1_train, X1_test, y1_train, y1_test =train_test_split(X1,y1,test_size=0.2,random_state=0)\n",
    "\n",
    "X_poly = poly_reg.fit_transform(X1_train)\n",
    "lin_reg_2 = LinearRegression()\n",
    "lin_reg_2.fit(X_poly, y1_train)\n",
    "\n",
    "\n",
    "\n",
    "plt.scatter(X1, y1, color = 'red')\n",
    "plt.plot(X1, lin_reg_2.predict(poly_reg.fit_transform(X1)), color = 'blue')\n",
    "plt.title('Year vs Selling_Price (Polynomial Regression)')\n",
    "plt.xlabel('Year')\n",
    "plt.ylabel('Selling_Price')\n",
    "plt.show()\n",
    "\n",
    "y1_pred=lin_reg_2.predict(poly_reg.fit_transform(X1_test))\n",
    "np.set_printoptions(precision=2)\n",
    "print(np.concatenate((y1_pred.reshape(len(y1_pred),1),y1_test.reshape(len(y1_test),1)),1))"
   ]
  },
  {
   "cell_type": "code",
   "execution_count": 390,
   "metadata": {},
   "outputs": [
    {
     "data": {
      "text/plain": [
       "0.08832976547618343"
      ]
     },
     "execution_count": 390,
     "metadata": {},
     "output_type": "execute_result"
    }
   ],
   "source": [
    "r2_score(y1_test, lin_reg_2.predict(poly_reg.fit_transform(X1_test)))\n",
    "# print(1-(1-r2_score(y_test, lin_reg_2.predict(poly_reg.fit_transform(X1_test))))*((len(X_test)-1)/(len(X_test)-len(X_test[0])-1)))\n"
   ]
  },
  {
   "cell_type": "code",
   "execution_count": 387,
   "metadata": {},
   "outputs": [],
   "source": [
    "# Finding Another Pattern"
   ]
  },
  {
   "cell_type": "code",
   "execution_count": 388,
   "metadata": {},
   "outputs": [
    {
     "data": {
      "text/plain": [
       "<matplotlib.axes._subplots.AxesSubplot at 0x21a31bb4508>"
      ]
     },
     "execution_count": 388,
     "metadata": {},
     "output_type": "execute_result"
    },
    {
     "data": {
      "image/png": "[encoded data removed]",
      "text/plain": [
       "<Figure size 432x288 with 1 Axes>"
      ]
     },
     "metadata": {},
     "output_type": "display_data"
    }
   ],
   "source": [
    "sns.scatterplot(df['Transmission']=='Manual',df['Selling_Price'])"
   ]
  },
  {
   "cell_type": "code",
   "execution_count": 344,
   "metadata": {},
   "outputs": [
    {
     "data": {
      "text/plain": [
       "<matplotlib.axes._subplots.AxesSubplot at 0x21a32d80688>"
      ]
     },
     "execution_count": 344,
     "metadata": {},
     "output_type": "execute_result"
    },
    {
     "data": {
      "image/png": "[encoded data removed]",
      "text/plain": [
       "<Figure size 432x288 with 1 Axes>"
      ]
     },
     "metadata": {},
     "output_type": "display_data"
    }
   ],
   "source": [
    "sns.scatterplot(df['Seller_Type']=='Dealer',df['Selling_Price'])"
   ]
  },
  {
   "cell_type": "code",
   "execution_count": 345,
   "metadata": {},
   "outputs": [
    {
     "data": {
      "text/plain": [
       "<matplotlib.axes._subplots.AxesSubplot at 0x21a32dd2108>"
      ]
     },
     "execution_count": 345,
     "metadata": {},
     "output_type": "execute_result"
    },
    {
     "data": {
      "image/png": "[encoded data removed]",
      "text/plain": [
       "<Figure size 432x288 with 1 Axes>"
      ]
     },
     "metadata": {},
     "output_type": "display_data"
    }
   ],
   "source": [
    "sns.scatterplot(df['Fuel_Type']=='Diesel',df['Selling_Price'])"
   ]
  },
  {
   "cell_type": "code",
   "execution_count": 346,
   "metadata": {},
   "outputs": [],
   "source": [
    "#  Check with Fuel,Dealer and Transmission Individually"
   ]
  },
  {
   "cell_type": "code",
   "execution_count": 350,
   "metadata": {},
   "outputs": [
    {
     "data": {
      "text/html": [
       "<div>\n",
       "<style scoped>\n",
       "    .dataframe tbody tr th:only-of-type {\n",
       "        vertical-align: middle;\n",
       "    }\n",
       "\n",
       "    .dataframe tbody tr th {\n",
       "        vertical-align: top;\n",
       "    }\n",
       "\n",
       "    .dataframe thead th {\n",
       "        text-align: right;\n",
       "    }\n",
       "</style>\n",
       "<table border=\"1\" class=\"dataframe\">\n",
       "  <thead>\n",
       "    <tr style=\"text-align: right;\">\n",
       "      <th></th>\n",
       "      <th>Car_Name</th>\n",
       "      <th>Year</th>\n",
       "      <th>Selling_Price</th>\n",
       "      <th>Present_Price</th>\n",
       "      <th>Kms_Driven</th>\n",
       "      <th>Fuel_Type</th>\n",
       "      <th>Seller_Type</th>\n",
       "      <th>Transmission</th>\n",
       "      <th>Owner</th>\n",
       "    </tr>\n",
       "  </thead>\n",
       "  <tbody>\n",
       "    <tr>\n",
       "      <th>0</th>\n",
       "      <td>ritz</td>\n",
       "      <td>2014</td>\n",
       "      <td>3.35</td>\n",
       "      <td>5.59</td>\n",
       "      <td>27000</td>\n",
       "      <td>Petrol</td>\n",
       "      <td>Dealer</td>\n",
       "      <td>Manual</td>\n",
       "      <td>0</td>\n",
       "    </tr>\n",
       "    <tr>\n",
       "      <th>1</th>\n",
       "      <td>sx4</td>\n",
       "      <td>2013</td>\n",
       "      <td>4.75</td>\n",
       "      <td>9.54</td>\n",
       "      <td>43000</td>\n",
       "      <td>Diesel</td>\n",
       "      <td>Dealer</td>\n",
       "      <td>Manual</td>\n",
       "      <td>0</td>\n",
       "    </tr>\n",
       "    <tr>\n",
       "      <th>2</th>\n",
       "      <td>ciaz</td>\n",
       "      <td>2017</td>\n",
       "      <td>7.25</td>\n",
       "      <td>9.85</td>\n",
       "      <td>6900</td>\n",
       "      <td>Petrol</td>\n",
       "      <td>Dealer</td>\n",
       "      <td>Manual</td>\n",
       "      <td>0</td>\n",
       "    </tr>\n",
       "    <tr>\n",
       "      <th>3</th>\n",
       "      <td>wagon r</td>\n",
       "      <td>2011</td>\n",
       "      <td>2.85</td>\n",
       "      <td>4.15</td>\n",
       "      <td>5200</td>\n",
       "      <td>Petrol</td>\n",
       "      <td>Dealer</td>\n",
       "      <td>Manual</td>\n",
       "      <td>0</td>\n",
       "    </tr>\n",
       "    <tr>\n",
       "      <th>4</th>\n",
       "      <td>swift</td>\n",
       "      <td>2014</td>\n",
       "      <td>4.60</td>\n",
       "      <td>6.87</td>\n",
       "      <td>42450</td>\n",
       "      <td>Diesel</td>\n",
       "      <td>Dealer</td>\n",
       "      <td>Manual</td>\n",
       "      <td>0</td>\n",
       "    </tr>\n",
       "  </tbody>\n",
       "</table>\n",
       "</div>"
      ],
      "text/plain": [
       "  Car_Name  Year  Selling_Price  Present_Price  Kms_Driven Fuel_Type  \\\n",
       "0     ritz  2014           3.35           5.59       27000    Petrol   \n",
       "1      sx4  2013           4.75           9.54       43000    Diesel   \n",
       "2     ciaz  2017           7.25           9.85        6900    Petrol   \n",
       "3  wagon r  2011           2.85           4.15        5200    Petrol   \n",
       "4    swift  2014           4.60           6.87       42450    Diesel   \n",
       "\n",
       "  Seller_Type Transmission  Owner  \n",
       "0      Dealer       Manual      0  \n",
       "1      Dealer       Manual      0  \n",
       "2      Dealer       Manual      0  \n",
       "3      Dealer       Manual      0  \n",
       "4      Dealer       Manual      0  "
      ]
     },
     "execution_count": 350,
     "metadata": {},
     "output_type": "execute_result"
    }
   ],
   "source": [
    "df.head()"
   ]
  },
  {
   "cell_type": "code",
   "execution_count": 363,
   "metadata": {},
   "outputs": [],
   "source": [
    "X1=df[['Fuel_Type','Present_Price']]\n",
    "y1=df['Selling_Price']\n",
    "y1=y1.values\n",
    "X1=X1.values\n"
   ]
  },
  {
   "cell_type": "code",
   "execution_count": 364,
   "metadata": {},
   "outputs": [],
   "source": [
    "from sklearn.compose import ColumnTransformer\n",
    "from sklearn.preprocessing import OneHotEncoder\n",
    "ct=ColumnTransformer(transformers=[('encoder',OneHotEncoder(),[0])], remainder='passthrough')\n",
    "X1=np.array(ct.fit_transform(X1))"
   ]
  },
  {
   "cell_type": "code",
   "execution_count": 365,
   "metadata": {},
   "outputs": [
    {
     "data": {
      "text/plain": [
       "array([[0.0, 0.0, 1.0, 5.59],\n",
       "       [0.0, 1.0, 0.0, 9.54],\n",
       "       [0.0, 0.0, 1.0, 9.85],\n",
       "       ...,\n",
       "       [0.0, 0.0, 1.0, 11.0],\n",
       "       [0.0, 1.0, 0.0, 12.5],\n",
       "       [0.0, 0.0, 1.0, 5.9]], dtype=object)"
      ]
     },
     "execution_count": 365,
     "metadata": {},
     "output_type": "execute_result"
    }
   ],
   "source": [
    "X1"
   ]
  },
  {
   "cell_type": "code",
   "execution_count": 368,
   "metadata": {},
   "outputs": [
    {
     "name": "stdout",
     "output_type": "stream",
     "text": [
      "[[ 7.16  8.25]\n",
      " [ 1.05  0.5 ]\n",
      " [ 3.24  5.25]\n",
      " [ 8.14  9.5 ]\n",
      " [11.81 18.  ]\n",
      " [ 3.36  5.5 ]\n",
      " [ 3.73  3.75]\n",
      " [ 0.93  0.45]\n",
      " [ 3.73  4.5 ]\n",
      " [ 4.9   4.5 ]\n",
      " [ 2.75  2.7 ]\n",
      " [ 1.11  0.72]\n",
      " [ 3.24  5.25]\n",
      " [ 5.14  7.5 ]\n",
      " [ 7.78  7.75]\n",
      " [11.08 19.75]\n",
      " [ 4.5   7.4 ]\n",
      " [ 3.72  4.75]\n",
      " [ 1.15  0.35]\n",
      " [ 1.5   1.7 ]\n",
      " [ 4.28  4.4 ]\n",
      " [ 3.24  5.25]\n",
      " [ 4.9   5.11]\n",
      " [ 6.79 11.25]\n",
      " [ 1.02  0.2 ]\n",
      " [ 1.06  0.78]\n",
      " [ 1.04  0.38]\n",
      " [ 1.22  0.65]\n",
      " [ 1.13  0.5 ]\n",
      " [ 7.43  3.6 ]\n",
      " [ 5.98  3.25]\n",
      " [ 7.38  7.2 ]\n",
      " [ 1.13  0.6 ]\n",
      " [ 6.93  8.75]\n",
      " [ 5.17  3.  ]\n",
      " [ 1.36  1.15]\n",
      " [ 4.14  6.6 ]\n",
      " [ 6.46  4.75]\n",
      " [ 1.02  0.25]\n",
      " [ 9.22  8.25]\n",
      " [ 7.35  9.25]\n",
      " [19.08 19.99]\n",
      " [ 3.24  5.5 ]\n",
      " [ 3.88  4.75]\n",
      " [ 6.55  5.5 ]\n",
      " [ 9.04 12.9 ]\n",
      " [ 0.94  0.3 ]\n",
      " [ 1.21  1.05]\n",
      " [ 5.13  5.25]\n",
      " [ 6.8   6.5 ]\n",
      " [ 6.09  7.5 ]\n",
      " [ 2.67  2.9 ]\n",
      " [ 4.9   4.8 ]\n",
      " [19.08 23.5 ]\n",
      " [ 1.36  1.2 ]\n",
      " [ 1.34  1.1 ]\n",
      " [ 1.04  0.65]\n",
      " [ 2.67  2.55]\n",
      " [ 3.32  4.15]\n",
      " [ 2.23  1.35]\n",
      " [ 6.83  3.51]]\n"
     ]
    }
   ],
   "source": [
    "from sklearn.model_selection import train_test_split\n",
    "X1_train, X1_test, y1_train, y1_test= train_test_split(X1,y1,test_size=0.2, random_state=0)\n",
    "\n",
    "from sklearn.linear_model import LinearRegression\n",
    "regressor = LinearRegression()\n",
    "regressor.fit(X1_train,y1_train)\n",
    "\n",
    "y1_pred=regressor.predict(X1_test)\n",
    "np.set_printoptions(precision=2)\n",
    "print(np.concatenate((y1_pred.reshape(len(y1_pred),1),y1_test.reshape(len(y1_test),1)),1))"
   ]
  },
  {
   "cell_type": "code",
   "execution_count": 369,
   "metadata": {},
   "outputs": [
    {
     "name": "stdout",
     "output_type": "stream",
     "text": [
      "0.8092214098247614\n"
     ]
    }
   ],
   "source": [
    "from sklearn.metrics import r2_score   \n",
    "r2_score(y1_test, y1_pred)  \n",
    "print(1-(1-r2_score(y1_test, y1_pred))*((len(X1_test)-1)/(len(X1_test)-len(X1_test[0])-1)))"
   ]
  },
  {
   "cell_type": "code",
   "execution_count": 370,
   "metadata": {},
   "outputs": [
    {
     "data": {
      "text/html": [
       "<div>\n",
       "<style scoped>\n",
       "    .dataframe tbody tr th:only-of-type {\n",
       "        vertical-align: middle;\n",
       "    }\n",
       "\n",
       "    .dataframe tbody tr th {\n",
       "        vertical-align: top;\n",
       "    }\n",
       "\n",
       "    .dataframe thead th {\n",
       "        text-align: right;\n",
       "    }\n",
       "</style>\n",
       "<table border=\"1\" class=\"dataframe\">\n",
       "  <thead>\n",
       "    <tr style=\"text-align: right;\">\n",
       "      <th></th>\n",
       "      <th>Car_Name</th>\n",
       "      <th>Year</th>\n",
       "      <th>Selling_Price</th>\n",
       "      <th>Present_Price</th>\n",
       "      <th>Kms_Driven</th>\n",
       "      <th>Fuel_Type</th>\n",
       "      <th>Seller_Type</th>\n",
       "      <th>Transmission</th>\n",
       "      <th>Owner</th>\n",
       "    </tr>\n",
       "  </thead>\n",
       "  <tbody>\n",
       "    <tr>\n",
       "      <th>0</th>\n",
       "      <td>ritz</td>\n",
       "      <td>2014</td>\n",
       "      <td>3.35</td>\n",
       "      <td>5.59</td>\n",
       "      <td>27000</td>\n",
       "      <td>Petrol</td>\n",
       "      <td>Dealer</td>\n",
       "      <td>Manual</td>\n",
       "      <td>0</td>\n",
       "    </tr>\n",
       "    <tr>\n",
       "      <th>1</th>\n",
       "      <td>sx4</td>\n",
       "      <td>2013</td>\n",
       "      <td>4.75</td>\n",
       "      <td>9.54</td>\n",
       "      <td>43000</td>\n",
       "      <td>Diesel</td>\n",
       "      <td>Dealer</td>\n",
       "      <td>Manual</td>\n",
       "      <td>0</td>\n",
       "    </tr>\n",
       "    <tr>\n",
       "      <th>2</th>\n",
       "      <td>ciaz</td>\n",
       "      <td>2017</td>\n",
       "      <td>7.25</td>\n",
       "      <td>9.85</td>\n",
       "      <td>6900</td>\n",
       "      <td>Petrol</td>\n",
       "      <td>Dealer</td>\n",
       "      <td>Manual</td>\n",
       "      <td>0</td>\n",
       "    </tr>\n",
       "    <tr>\n",
       "      <th>3</th>\n",
       "      <td>wagon r</td>\n",
       "      <td>2011</td>\n",
       "      <td>2.85</td>\n",
       "      <td>4.15</td>\n",
       "      <td>5200</td>\n",
       "      <td>Petrol</td>\n",
       "      <td>Dealer</td>\n",
       "      <td>Manual</td>\n",
       "      <td>0</td>\n",
       "    </tr>\n",
       "    <tr>\n",
       "      <th>4</th>\n",
       "      <td>swift</td>\n",
       "      <td>2014</td>\n",
       "      <td>4.60</td>\n",
       "      <td>6.87</td>\n",
       "      <td>42450</td>\n",
       "      <td>Diesel</td>\n",
       "      <td>Dealer</td>\n",
       "      <td>Manual</td>\n",
       "      <td>0</td>\n",
       "    </tr>\n",
       "  </tbody>\n",
       "</table>\n",
       "</div>"
      ],
      "text/plain": [
       "  Car_Name  Year  Selling_Price  Present_Price  Kms_Driven Fuel_Type  \\\n",
       "0     ritz  2014           3.35           5.59       27000    Petrol   \n",
       "1      sx4  2013           4.75           9.54       43000    Diesel   \n",
       "2     ciaz  2017           7.25           9.85        6900    Petrol   \n",
       "3  wagon r  2011           2.85           4.15        5200    Petrol   \n",
       "4    swift  2014           4.60           6.87       42450    Diesel   \n",
       "\n",
       "  Seller_Type Transmission  Owner  \n",
       "0      Dealer       Manual      0  \n",
       "1      Dealer       Manual      0  \n",
       "2      Dealer       Manual      0  \n",
       "3      Dealer       Manual      0  \n",
       "4      Dealer       Manual      0  "
      ]
     },
     "execution_count": 370,
     "metadata": {},
     "output_type": "execute_result"
    }
   ],
   "source": [
    "df.head()"
   ]
  },
  {
   "cell_type": "code",
   "execution_count": 371,
   "metadata": {},
   "outputs": [
    {
     "name": "stdout",
     "output_type": "stream",
     "text": [
      "[[ 5.87  8.25]\n",
      " [ 0.48  0.5 ]\n",
      " [ 4.18  5.25]\n",
      " [ 6.87  9.5 ]\n",
      " [10.6  18.  ]\n",
      " [ 4.3   5.5 ]\n",
      " [ 4.68  3.75]\n",
      " [ 0.36  0.45]\n",
      " [ 4.68  4.5 ]\n",
      " [ 5.87  4.5 ]\n",
      " [ 3.68  2.7 ]\n",
      " [ 0.54  0.72]\n",
      " [ 4.18  5.25]\n",
      " [ 6.11  7.5 ]\n",
      " [ 6.5   7.75]\n",
      " [12.14 19.75]\n",
      " [ 5.46  7.4 ]\n",
      " [ 4.66  4.75]\n",
      " [ 0.59  0.35]\n",
      " [ 0.94  1.7 ]\n",
      " [ 5.23  4.4 ]\n",
      " [ 4.18  5.25]\n",
      " [ 5.87  5.11]\n",
      " [ 7.78 11.25]\n",
      " [ 0.45  0.2 ]\n",
      " [ 0.49  0.78]\n",
      " [ 0.47  0.38]\n",
      " [ 0.66  0.65]\n",
      " [ 0.56  0.5 ]\n",
      " [ 8.44  3.6 ]\n",
      " [ 4.68  3.25]\n",
      " [ 6.1   7.2 ]\n",
      " [ 0.56  0.6 ]\n",
      " [ 5.63  8.75]\n",
      " [ 6.14  3.  ]\n",
      " [ 0.79  1.15]\n",
      " [ 5.09  6.6 ]\n",
      " [ 5.16  4.75]\n",
      " [ 0.45  0.25]\n",
      " [ 7.97  8.25]\n",
      " [ 6.06  9.25]\n",
      " [17.98 19.99]\n",
      " [ 4.18  5.5 ]\n",
      " [ 4.83  4.75]\n",
      " [ 5.26  5.5 ]\n",
      " [ 7.78 12.9 ]\n",
      " [ 0.37  0.3 ]\n",
      " [ 0.64  1.05]\n",
      " [ 6.1   5.25]\n",
      " [ 5.51  6.5 ]\n",
      " [ 7.07  7.5 ]\n",
      " [ 3.6   2.9 ]\n",
      " [ 5.87  4.8 ]\n",
      " [17.98 23.5 ]\n",
      " [ 0.79  1.2 ]\n",
      " [ 0.78  1.1 ]\n",
      " [ 0.47  0.65]\n",
      " [ 3.6   2.55]\n",
      " [ 4.26  4.15]\n",
      " [ 1.68  1.35]\n",
      " [ 7.83  3.51]]\n",
      "0.7947350823231238\n"
     ]
    }
   ],
   "source": [
    "X1=df[['Seller_Type','Present_Price']]\n",
    "y1=df['Selling_Price']\n",
    "y1=y1.values\n",
    "X1=X1.values\n",
    "\n",
    "from sklearn.compose import ColumnTransformer\n",
    "from sklearn.preprocessing import OneHotEncoder\n",
    "ct=ColumnTransformer(transformers=[('encoder',OneHotEncoder(),[0])], remainder='passthrough')\n",
    "X1=np.array(ct.fit_transform(X1))\n",
    "\n",
    "from sklearn.model_selection import train_test_split\n",
    "X1_train, X1_test, y1_train, y1_test= train_test_split(X1,y1,test_size=0.2, random_state=0)\n",
    "\n",
    "from sklearn.linear_model import LinearRegression\n",
    "regressor = LinearRegression()\n",
    "regressor.fit(X1_train,y1_train)\n",
    "\n",
    "y1_pred=regressor.predict(X1_test)\n",
    "np.set_printoptions(precision=2)\n",
    "print(np.concatenate((y1_pred.reshape(len(y1_pred),1),y1_test.reshape(len(y1_test),1)),1))\n",
    "\n",
    "from sklearn.metrics import r2_score   \n",
    "r2_score(y1_test, y1_pred)  \n",
    "print(1-(1-r2_score(y1_test, y1_pred))*((len(X1_test)-1)/(len(X1_test)-len(X1_test[0])-1)))"
   ]
  },
  {
   "cell_type": "code",
   "execution_count": 372,
   "metadata": {},
   "outputs": [
    {
     "name": "stdout",
     "output_type": "stream",
     "text": [
      "[[ 5.27  8.25]\n",
      " [ 1.11  0.5 ]\n",
      " [ 3.48  5.25]\n",
      " [ 6.34  9.5 ]\n",
      " [11.24 18.  ]\n",
      " [ 3.61  5.5 ]\n",
      " [ 4.01  3.75]\n",
      " [ 0.98  0.45]\n",
      " [ 4.95  4.5 ]\n",
      " [ 5.27  4.5 ]\n",
      " [ 2.94  2.7 ]\n",
      " [ 1.17  0.72]\n",
      " [ 3.48  5.25]\n",
      " [ 6.47  7.5 ]\n",
      " [ 5.95  7.75]\n",
      " [12.88 19.75]\n",
      " [ 5.77  7.4 ]\n",
      " [ 3.99  4.75]\n",
      " [ 1.22  0.35]\n",
      " [ 1.6   1.7 ]\n",
      " [ 5.54  4.4 ]\n",
      " [ 3.48  5.25]\n",
      " [ 6.21  5.11]\n",
      " [ 7.31 11.25]\n",
      " [ 1.08  0.2 ]\n",
      " [ 1.12  0.78]\n",
      " [ 1.09  0.38]\n",
      " [ 1.29  0.65]\n",
      " [ 1.19  0.5 ]\n",
      " [ 8.95  3.6 ]\n",
      " [ 4.01  3.25]\n",
      " [ 5.51  7.2 ]\n",
      " [ 1.19  0.6 ]\n",
      " [ 5.02  8.75]\n",
      " [ 5.56  3.  ]\n",
      " [ 1.44  1.15]\n",
      " [ 4.45  6.6 ]\n",
      " [ 4.52  4.75]\n",
      " [ 1.08  0.25]\n",
      " [ 7.5   8.25]\n",
      " [ 5.48  9.25]\n",
      " [19.1  19.99]\n",
      " [ 3.48  5.5 ]\n",
      " [ 4.17  4.75]\n",
      " [ 4.62  5.5 ]\n",
      " [ 7.31 12.9 ]\n",
      " [ 0.99  0.3 ]\n",
      " [ 1.28  1.05]\n",
      " [ 5.51  5.25]\n",
      " [ 4.89  6.5 ]\n",
      " [ 7.49  7.5 ]\n",
      " [ 2.86  2.9 ]\n",
      " [ 5.27  4.8 ]\n",
      " [19.1  23.5 ]\n",
      " [ 1.44  1.2 ]\n",
      " [ 1.43  1.1 ]\n",
      " [ 1.09  0.65]\n",
      " [ 2.86  2.55]\n",
      " [ 3.56  4.15]\n",
      " [ 2.39  1.35]\n",
      " [ 7.36  3.51]]\n",
      "0.7918677578824356\n"
     ]
    }
   ],
   "source": [
    "X1=df[['Transmission','Present_Price']]\n",
    "y1=df['Selling_Price']\n",
    "y1=y1.values\n",
    "X1=X1.values\n",
    "\n",
    "from sklearn.compose import ColumnTransformer\n",
    "from sklearn.preprocessing import OneHotEncoder\n",
    "ct=ColumnTransformer(transformers=[('encoder',OneHotEncoder(),[0])], remainder='passthrough')\n",
    "X1=np.array(ct.fit_transform(X1))\n",
    "\n",
    "from sklearn.model_selection import train_test_split\n",
    "X1_train, X1_test, y1_train, y1_test= train_test_split(X1,y1,test_size=0.2, random_state=0)\n",
    "\n",
    "from sklearn.linear_model import LinearRegression\n",
    "regressor = LinearRegression()\n",
    "regressor.fit(X1_train,y1_train)\n",
    "\n",
    "y1_pred=regressor.predict(X1_test)\n",
    "np.set_printoptions(precision=2)\n",
    "print(np.concatenate((y1_pred.reshape(len(y1_pred),1),y1_test.reshape(len(y1_test),1)),1))\n",
    "\n",
    "from sklearn.metrics import r2_score   \n",
    "r2_score(y1_test, y1_pred)  \n",
    "print(1-(1-r2_score(y1_test, y1_pred))*((len(X1_test)-1)/(len(X1_test)-len(X1_test[0])-1)))"
   ]
  },
  {
   "cell_type": "code",
   "execution_count": 373,
   "metadata": {},
   "outputs": [
    {
     "name": "stdout",
     "output_type": "stream",
     "text": [
      "[[ 7.03  8.25]\n",
      " [ 1.    0.5 ]\n",
      " [ 3.14  5.25]\n",
      " [ 8.    9.5 ]\n",
      " [12.58 18.  ]\n",
      " [ 3.25  5.5 ]\n",
      " [ 3.61  3.75]\n",
      " [ 0.88  0.45]\n",
      " [ 4.62  4.5 ]\n",
      " [ 4.76  4.5 ]\n",
      " [ 2.65  2.7 ]\n",
      " [ 1.06  0.72]\n",
      " [ 3.14  5.25]\n",
      " [ 6.    7.5 ]\n",
      " [ 7.64  7.75]\n",
      " [11.78 19.75]\n",
      " [ 5.36  7.4 ]\n",
      " [ 3.6   4.75]\n",
      " [ 1.1   0.35]\n",
      " [ 1.44  1.7 ]\n",
      " [ 5.15  4.4 ]\n",
      " [ 3.14  5.25]\n",
      " [ 5.76  5.11]\n",
      " [ 6.59 11.25]\n",
      " [ 0.97  0.2 ]\n",
      " [ 1.01  0.78]\n",
      " [ 0.99  0.38]\n",
      " [ 1.17  0.65]\n",
      " [ 1.07  0.5 ]\n",
      " [ 8.23  3.6 ]\n",
      " [ 5.89  3.25]\n",
      " [ 7.25  7.2 ]\n",
      " [ 1.07  0.6 ]\n",
      " [ 6.81  8.75]\n",
      " [ 5.02  3.  ]\n",
      " [ 1.3   1.15]\n",
      " [ 4.01  6.6 ]\n",
      " [ 6.36  4.75]\n",
      " [ 0.97  0.25]\n",
      " [ 9.05  8.25]\n",
      " [ 7.22  9.25]\n",
      " [19.66 19.99]\n",
      " [ 3.14  5.5 ]\n",
      " [ 3.76  4.75]\n",
      " [ 6.45  5.5 ]\n",
      " [ 8.87 12.9 ]\n",
      " [ 0.9   0.3 ]\n",
      " [ 1.15  1.05]\n",
      " [ 4.97  5.25]\n",
      " [ 6.69  6.5 ]\n",
      " [ 6.91  7.5 ]\n",
      " [ 2.58  2.9 ]\n",
      " [ 4.76  4.8 ]\n",
      " [19.66 23.5 ]\n",
      " [ 1.3   1.2 ]\n",
      " [ 1.28  1.1 ]\n",
      " [ 0.99  0.65]\n",
      " [ 2.58  2.55]\n",
      " [ 3.21  4.15]\n",
      " [ 2.15  1.35]\n",
      " [ 6.64  3.51]]\n",
      "0.81955266377064\n"
     ]
    }
   ],
   "source": [
    "X1=df[['Transmission','Fuel_Type','Present_Price']]\n",
    "y1=df['Selling_Price']\n",
    "y1=y1.values\n",
    "X1=X1.values\n",
    "\n",
    "from sklearn.compose import ColumnTransformer\n",
    "from sklearn.preprocessing import OneHotEncoder\n",
    "ct=ColumnTransformer(transformers=[('encoder',OneHotEncoder(),[0,1])], remainder='passthrough')\n",
    "X1=np.array(ct.fit_transform(X1))\n",
    "\n",
    "from sklearn.model_selection import train_test_split\n",
    "X1_train, X1_test, y1_train, y1_test= train_test_split(X1,y1,test_size=0.2, random_state=0)\n",
    "\n",
    "from sklearn.linear_model import LinearRegression\n",
    "regressor = LinearRegression()\n",
    "regressor.fit(X1_train,y1_train)\n",
    "\n",
    "y1_pred=regressor.predict(X1_test)\n",
    "np.set_printoptions(precision=2)\n",
    "print(np.concatenate((y1_pred.reshape(len(y1_pred),1),y1_test.reshape(len(y1_test),1)),1))\n",
    "\n",
    "from sklearn.metrics import r2_score   \n",
    "r2_score(y1_test, y1_pred)  \n",
    "print(1-(1-r2_score(y1_test, y1_pred))*((len(X1_test)-1)/(len(X1_test)-len(X1_test[0])-1)))"
   ]
  },
  {
   "cell_type": "code",
   "execution_count": 376,
   "metadata": {},
   "outputs": [
    {
     "name": "stdout",
     "output_type": "stream",
     "text": [
      "[[ 7.39  8.25]\n",
      " [ 0.49  0.5 ]\n",
      " [ 3.8   5.25]\n",
      " [ 8.31  9.5 ]\n",
      " [11.74 18.  ]\n",
      " [ 3.91  5.5 ]\n",
      " [ 4.26  3.75]\n",
      " [ 0.38  0.45]\n",
      " [ 4.26  4.5 ]\n",
      " [ 5.35  4.5 ]\n",
      " [ 3.34  2.7 ]\n",
      " [ 0.55  0.72]\n",
      " [ 3.8   5.25]\n",
      " [ 5.58  7.5 ]\n",
      " [ 7.97  7.75]\n",
      " [11.13 19.75]\n",
      " [ 4.97  7.4 ]\n",
      " [ 4.24  4.75]\n",
      " [ 0.59  0.35]\n",
      " [ 0.91  1.7 ]\n",
      " [ 4.77  4.4 ]\n",
      " [ 3.8   5.25]\n",
      " [ 5.35  5.11]\n",
      " [ 7.12 11.25]\n",
      " [ 0.46  0.2 ]\n",
      " [ 0.5   0.78]\n",
      " [ 0.48  0.38]\n",
      " [ 0.65  0.65]\n",
      " [ 0.56  0.5 ]\n",
      " [ 7.72  3.6 ]\n",
      " [ 6.29  3.25]\n",
      " [ 7.6   7.2 ]\n",
      " [ 0.56  0.6 ]\n",
      " [ 7.17  8.75]\n",
      " [ 5.6   3.  ]\n",
      " [ 0.78  1.15]\n",
      " [ 4.64  6.6 ]\n",
      " [ 6.73  4.75]\n",
      " [ 0.46  0.25]\n",
      " [ 9.32  8.25]\n",
      " [ 7.57  9.25]\n",
      " [18.54 19.99]\n",
      " [ 3.8   5.5 ]\n",
      " [ 4.4   4.75]\n",
      " [ 6.82  5.5 ]\n",
      " [ 9.15 12.9 ]\n",
      " [ 0.39  0.3 ]\n",
      " [ 0.64  1.05]\n",
      " [ 5.56  5.25]\n",
      " [ 7.05  6.5 ]\n",
      " [ 6.46  7.5 ]\n",
      " [ 3.26  2.9 ]\n",
      " [ 5.35  4.8 ]\n",
      " [18.54 23.5 ]\n",
      " [ 0.78  1.2 ]\n",
      " [ 0.76  1.1 ]\n",
      " [ 0.48  0.65]\n",
      " [ 3.26  2.55]\n",
      " [ 3.87  4.15]\n",
      " [ 1.6   1.35]\n",
      " [ 7.16  3.51]]\n",
      "0.8101331268130756\n"
     ]
    }
   ],
   "source": [
    "X1=df[['Seller_Type','Fuel_Type','Present_Price']]\n",
    "y1=df['Selling_Price']\n",
    "y1=y1.values\n",
    "X1=X1.values\n",
    "\n",
    "from sklearn.compose import ColumnTransformer\n",
    "from sklearn.preprocessing import OneHotEncoder\n",
    "ct=ColumnTransformer(transformers=[('encoder',OneHotEncoder(),[0,1])], remainder='passthrough')\n",
    "X1=np.array(ct.fit_transform(X1))\n",
    "\n",
    "from sklearn.model_selection import train_test_split\n",
    "X1_train, X1_test, y1_train, y1_test= train_test_split(X1,y1,test_size=0.2, random_state=0)\n",
    "\n",
    "from sklearn.linear_model import LinearRegression\n",
    "regressor = LinearRegression()\n",
    "regressor.fit(X1_train,y1_train)\n",
    "\n",
    "y1_pred=regressor.predict(X1_test)\n",
    "np.set_printoptions(precision=2)\n",
    "print(np.concatenate((y1_pred.reshape(len(y1_pred),1),y1_test.reshape(len(y1_test),1)),1))\n",
    "\n",
    "from sklearn.metrics import r2_score   \n",
    "r2_score(y1_test, y1_pred)  \n",
    "print(1-(1-r2_score(y1_test, y1_pred))*((len(X1_test)-1)/(len(X1_test)-len(X1_test[0])-1)))"
   ]
  },
  {
   "cell_type": "code",
   "execution_count": 377,
   "metadata": {},
   "outputs": [
    {
     "name": "stdout",
     "output_type": "stream",
     "text": [
      "[[ 5.74  8.25]\n",
      " [ 0.33  0.5 ]\n",
      " [ 4.12  5.25]\n",
      " [ 6.7   9.5 ]\n",
      " [11.63 18.  ]\n",
      " [ 4.24  5.5 ]\n",
      " [ 4.6   3.75]\n",
      " [ 0.21  0.45]\n",
      " [ 5.97  4.5 ]\n",
      " [ 5.74  4.5 ]\n",
      " [ 3.64  2.7 ]\n",
      " [ 0.38  0.72]\n",
      " [ 4.12  5.25]\n",
      " [ 7.34  7.5 ]\n",
      " [ 6.34  7.75]\n",
      " [13.1  19.75]\n",
      " [ 6.71  7.4 ]\n",
      " [ 4.59  4.75]\n",
      " [ 0.43  0.35]\n",
      " [ 0.76  1.7 ]\n",
      " [ 6.5   4.4 ]\n",
      " [ 4.12  5.25]\n",
      " [ 7.11  5.11]\n",
      " [ 7.57 11.25]\n",
      " [ 0.3   0.2 ]\n",
      " [ 0.34  0.78]\n",
      " [ 0.31  0.38]\n",
      " [ 0.49  0.65]\n",
      " [ 0.4   0.5 ]\n",
      " [ 9.57  3.6 ]\n",
      " [ 4.6   3.25]\n",
      " [ 5.96  7.2 ]\n",
      " [ 0.4   0.6 ]\n",
      " [ 5.52  8.75]\n",
      " [ 6.    3.  ]\n",
      " [ 0.62  1.15]\n",
      " [ 5.    6.6 ]\n",
      " [ 5.06  4.75]\n",
      " [ 0.3   0.25]\n",
      " [ 7.74  8.25]\n",
      " [ 5.93  9.25]\n",
      " [18.69 19.99]\n",
      " [ 4.12  5.5 ]\n",
      " [ 4.75  4.75]\n",
      " [ 5.15  5.5 ]\n",
      " [ 7.57 12.9 ]\n",
      " [ 0.22  0.3 ]\n",
      " [ 0.48  1.05]\n",
      " [ 5.96  5.25]\n",
      " [ 5.39  6.5 ]\n",
      " [ 8.26  7.5 ]\n",
      " [ 3.57  2.9 ]\n",
      " [ 5.74  4.8 ]\n",
      " [18.69 23.5 ]\n",
      " [ 0.62  1.2 ]\n",
      " [ 0.61  1.1 ]\n",
      " [ 0.31  0.65]\n",
      " [ 3.57  2.55]\n",
      " [ 4.2   4.15]\n",
      " [ 1.47  1.35]\n",
      " [ 7.61  3.51]]\n",
      "0.7977775924273098\n"
     ]
    }
   ],
   "source": [
    "X1=df[['Seller_Type','Transmission','Present_Price']]\n",
    "y1=df['Selling_Price']\n",
    "y1=y1.values\n",
    "X1=X1.values\n",
    "\n",
    "from sklearn.compose import ColumnTransformer\n",
    "from sklearn.preprocessing import OneHotEncoder\n",
    "ct=ColumnTransformer(transformers=[('encoder',OneHotEncoder(),[0,1])], remainder='passthrough')\n",
    "X1=np.array(ct.fit_transform(X1))\n",
    "\n",
    "from sklearn.model_selection import train_test_split\n",
    "X1_train, X1_test, y1_train, y1_test= train_test_split(X1,y1,test_size=0.2, random_state=0)\n",
    "\n",
    "from sklearn.linear_model import LinearRegression\n",
    "regressor = LinearRegression()\n",
    "regressor.fit(X1_train,y1_train)\n",
    "\n",
    "y1_pred=regressor.predict(X1_test)\n",
    "np.set_printoptions(precision=2)\n",
    "print(np.concatenate((y1_pred.reshape(len(y1_pred),1),y1_test.reshape(len(y1_test),1)),1))\n",
    "\n",
    "from sklearn.metrics import r2_score   \n",
    "r2_score(y1_test, y1_pred)  \n",
    "print(1-(1-r2_score(y1_test, y1_pred))*((len(X1_test)-1)/(len(X1_test)-len(X1_test[0])-1)))"
   ]
  },
  {
   "cell_type": "code",
   "execution_count": 396,
   "metadata": {},
   "outputs": [
    {
     "name": "stdout",
     "output_type": "stream",
     "text": [
      "[[ 7.71  8.25]\n",
      " [-0.75  0.5 ]\n",
      " [ 4.29  5.25]\n",
      " [ 9.08  9.5 ]\n",
      " [14.22 18.  ]\n",
      " [ 4.84  5.5 ]\n",
      " [ 3.42  3.75]\n",
      " [ 1.35  0.45]\n",
      " [ 5.11  4.5 ]\n",
      " [ 4.52  4.5 ]\n",
      " [ 2.05  2.7 ]\n",
      " [ 1.52  0.72]\n",
      " [ 5.17  5.25]\n",
      " [ 7.33  7.5 ]\n",
      " [ 8.74  7.75]\n",
      " [13.8  19.75]\n",
      " [ 7.16  7.4 ]\n",
      " [ 4.29  4.75]\n",
      " [-0.65  0.35]\n",
      " [ 2.33  1.7 ]\n",
      " [ 4.74  4.4 ]\n",
      " [ 4.73  5.25]\n",
      " [ 6.21  5.11]\n",
      " [ 8.07 11.25]\n",
      " [-2.11  0.2 ]\n",
      " [ 1.91  0.78]\n",
      " [-0.76  0.38]\n",
      " [ 0.74  0.65]\n",
      " [-0.24  0.5 ]\n",
      " [ 6.83  3.6 ]\n",
      " [ 4.39  3.25]\n",
      " [ 7.48  7.2 ]\n",
      " [ 0.65  0.6 ]\n",
      " [ 7.93  8.75]\n",
      " [ 3.45  3.  ]\n",
      " [ 1.75  1.15]\n",
      " [ 5.58  6.6 ]\n",
      " [ 7.05  4.75]\n",
      " [-2.11  0.25]\n",
      " [ 9.21  8.25]\n",
      " [ 9.22  9.25]\n",
      " [19.74 19.99]\n",
      " [ 4.29  5.5 ]\n",
      " [ 4.89  4.75]\n",
      " [ 6.7   5.5 ]\n",
      " [ 9.93 12.9 ]\n",
      " [ 0.03  0.3 ]\n",
      " [ 1.61  1.05]\n",
      " [ 5.18  5.25]\n",
      " [ 7.37  6.5 ]\n",
      " [ 7.77  7.5 ]\n",
      " [ 4.19  2.9 ]\n",
      " [ 4.97  4.8 ]\n",
      " [20.18 23.5 ]\n",
      " [ 1.75  1.2 ]\n",
      " [ 1.3   1.1 ]\n",
      " [ 0.12  0.65]\n",
      " [ 1.98  2.55]\n",
      " [ 3.47  4.15]\n",
      " [ 1.69  1.35]\n",
      " [ 3.24  3.51]]\n",
      "0.8996398080948483\n"
     ]
    }
   ],
   "source": [
    "X1=df[['Seller_Type','Transmission','Fuel_Type','Present_Price','Year']]\n",
    "y1=df['Selling_Price']\n",
    "y1=y1.values\n",
    "X1=X1.values\n",
    "\n",
    "from sklearn.compose import ColumnTransformer\n",
    "from sklearn.preprocessing import OneHotEncoder\n",
    "ct=ColumnTransformer(transformers=[('encoder',OneHotEncoder(),[0,1,2])], remainder='passthrough')\n",
    "X1=np.array(ct.fit_transform(X1))\n",
    "\n",
    "from sklearn.model_selection import train_test_split\n",
    "X1_train, X1_test, y1_train, y1_test= train_test_split(X1,y1,test_size=0.2, random_state=0)\n",
    "\n",
    "from sklearn.linear_model import LinearRegression\n",
    "regressor = LinearRegression()\n",
    "regressor.fit(X1_train,y1_train)\n",
    "\n",
    "y1_pred=regressor.predict(X1_test)\n",
    "np.set_printoptions(precision=2)\n",
    "print(np.concatenate((y1_pred.reshape(len(y1_pred),1),y1_test.reshape(len(y1_test),1)),1))\n",
    "\n",
    "from sklearn.metrics import r2_score   \n",
    "r2_score(y1_test, y1_pred)  \n",
    "print(1-(1-r2_score(y1_test, y1_pred))*((len(X1_test)-1)/(len(X1_test)-len(X1_test[0])-1)))"
   ]
  },
  {
   "cell_type": "code",
   "execution_count": 410,
   "metadata": {},
   "outputs": [
    {
     "name": "stdout",
     "output_type": "stream",
     "text": [
      "[[ 6.47  8.25]\n",
      " [ 0.45  0.5 ]\n",
      " [ 4.58  5.25]\n",
      " [ 8.99  9.5 ]\n",
      " [ 9.45 18.  ]\n",
      " [ 3.1   5.5 ]\n",
      " [ 3.    3.75]\n",
      " [ 0.45  0.45]\n",
      " [ 3.    4.5 ]\n",
      " [ 6.47  4.5 ]\n",
      " [ 3.35  2.7 ]\n",
      " [ 0.63  0.72]\n",
      " [ 4.58  5.25]\n",
      " [ 6.    7.5 ]\n",
      " [ 7.5   7.75]\n",
      " [ 5.25 19.75]\n",
      " [ 6.2   7.4 ]\n",
      " [ 3.95  4.75]\n",
      " [ 0.31  0.35]\n",
      " [ 1.42  1.7 ]\n",
      " [ 2.45  4.4 ]\n",
      " [ 4.58  5.25]\n",
      " [ 6.47  5.11]\n",
      " [ 9.23 11.25]\n",
      " [ 0.15  0.2 ]\n",
      " [ 0.56  0.78]\n",
      " [ 0.38  0.38]\n",
      " [ 0.6   0.65]\n",
      " [ 0.47  0.5 ]\n",
      " [14.73  3.6 ]\n",
      " [ 3.    3.25]\n",
      " [ 4.12  7.2 ]\n",
      " [ 0.47  0.6 ]\n",
      " [ 7.45  8.75]\n",
      " [ 6.1   3.  ]\n",
      " [ 1.15  1.15]\n",
      " [ 4.5   6.6 ]\n",
      " [ 5.85  4.75]\n",
      " [ 0.15  0.25]\n",
      " [ 5.12  8.25]\n",
      " [ 7.25  9.25]\n",
      " [18.75 19.99]\n",
      " [ 4.58  5.5 ]\n",
      " [ 5.08  4.75]\n",
      " [ 5.5   5.5 ]\n",
      " [ 9.23 12.9 ]\n",
      " [ 0.18  0.3 ]\n",
      " [ 0.6   1.05]\n",
      " [ 4.12  5.25]\n",
      " [ 6.5   6.5 ]\n",
      " [ 8.99  7.5 ]\n",
      " [ 2.9   2.9 ]\n",
      " [ 6.47  4.8 ]\n",
      " [18.75 23.5 ]\n",
      " [ 1.15  1.2 ]\n",
      " [ 1.15  1.1 ]\n",
      " [ 0.38  0.65]\n",
      " [ 2.9   2.55]\n",
      " [ 4.51  4.15]\n",
      " [ 2.5   1.35]\n",
      " [ 5.12  3.51]]\n",
      "0.6513227717493626\n"
     ]
    },
    {
     "data": {
      "image/png": "[encoded data removed]",
      "text/plain": [
       "<Figure size 432x288 with 1 Axes>"
      ]
     },
     "metadata": {},
     "output_type": "display_data"
    }
   ],
   "source": [
    "#  Using Decision Trees\n",
    "\n",
    "X1=df[['Present_Price']]\n",
    "y1=df['Selling_Price']\n",
    "y1=y1.values\n",
    "X1=X1.values\n",
    "\n",
    "\n",
    "from sklearn.model_selection import train_test_split\n",
    "X1_train, X1_test, y1_train, y1_test= train_test_split(X1,y1,test_size=0.2, random_state=0)\n",
    "\n",
    "\n",
    "from sklearn.tree import DecisionTreeRegressor\n",
    "regressor = DecisionTreeRegressor(random_state = 0)\n",
    "regressor.fit(X1_train, y1_train)\n",
    "\n",
    "\n",
    "y1_pred=regressor.predict(X1_test)\n",
    "np.set_printoptions(precision=2)\n",
    "print(np.concatenate((y1_pred.reshape(len(y1_pred),1),y1_test.reshape(len(y1_test),1)),1))\n",
    "\n",
    "from sklearn.metrics import r2_score   \n",
    "r2_score(y1_test, y1_pred)  \n",
    "print(1-(1-r2_score(y1_test, y1_pred))*((len(X1_test)-1)/(len(X1_test)-len(X1_test[0])-1)))\n",
    "\n",
    "X1_grid = np.arange(min(X1), max(X1), 0.01)\n",
    "X1_grid = X1_grid.reshape((len(X1_grid), 1))\n",
    "plt.scatter(X1, y1, color = 'red')\n",
    "plt.plot(X1_grid, regressor.predict(X1_grid), color = 'blue')\n",
    "plt.title('Regression (Decision Tree Regression)')\n",
    "plt.xlabel('Present Price')\n",
    "plt.ylabel('Selling Price')\n",
    "plt.show()"
   ]
  },
  {
   "cell_type": "code",
   "execution_count": 401,
   "metadata": {},
   "outputs": [],
   "source": [
    "# Random Forest Regressor"
   ]
  },
  {
   "cell_type": "code",
   "execution_count": 411,
   "metadata": {},
   "outputs": [
    {
     "name": "stdout",
     "output_type": "stream",
     "text": [
      "0.6513227717493626\n"
     ]
    },
    {
     "data": {
      "image/png": "[encoded data removed]",
      "text/plain": [
       "<Figure size 432x288 with 1 Axes>"
      ]
     },
     "metadata": {},
     "output_type": "display_data"
    }
   ],
   "source": [
    "X1=df[['Present_Price']]\n",
    "y1=df['Selling_Price']\n",
    "y1=y1.values\n",
    "X1=X1.values\n",
    "\n",
    "\n",
    "from sklearn.model_selection import train_test_split\n",
    "X1_train, X1_test, y1_train, y1_test= train_test_split(X1,y1,test_size=0.2, random_state=0)\n",
    "\n",
    "from sklearn.ensemble import RandomForestRegressor\n",
    "regressor = RandomForestRegressor(n_estimators = 10, random_state = 0)\n",
    "regressor.fit(X1_train, y1_train)\n",
    "\n",
    "from sklearn.metrics import r2_score   \n",
    "r2_score(y1_test, y1_pred)  \n",
    "print(1-(1-r2_score(y1_test, y1_pred))*((len(X1_test)-1)/(len(X1_test)-len(X1_test[0])-1)))\n",
    "\n",
    "X1_grid = np.arange(min(X1), max(X1), 0.01)\n",
    "X1_grid = X1_grid.reshape((len(X1_grid), 1))\n",
    "plt.scatter(X1, y1, color = 'red')\n",
    "plt.plot(X1_grid, regressor.predict(X1_grid), color = 'blue')\n",
    "plt.title('Regression (Random Forest Regression)')\n",
    "plt.xlabel('Present Price')\n",
    "plt.ylabel('Selling Price')\n",
    "plt.show()"
   ]
  },
  {
   "cell_type": "code",
   "execution_count": null,
   "metadata": {},
   "outputs": [],
   "source": []
  }
 ],
 "metadata": {
  "kernelspec": {
   "display_name": "Python 3",
   "language": "python",
   "name": "python3"
  },
  "language_info": {
   "codemirror_mode": {
    "name": "ipython",
    "version": 3
   },
   "file_extension": ".py",
   "mimetype": "text/x-python",
   "name": "python",
   "nbconvert_exporter": "python",
   "pygments_lexer": "ipython3",
   "version": "3.7.6"
  }
 },
 "nbformat": 4,
 "nbformat_minor": 4
}
